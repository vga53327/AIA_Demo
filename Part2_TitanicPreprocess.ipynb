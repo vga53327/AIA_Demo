{
 "cells": [
  {
   "cell_type": "markdown",
   "metadata": {},
   "source": [
    "# 如何利用學校的範例改成自己的 part2\n",
    "## 繼上個檔案，我新增一個特徵feature 讓命中率從 0.66 提升至 0.78\n",
    "## 程式碼比起上一份，真的只改了一點點，希望大家能發現我改了什麼地方\n",
    "概念: 我會寫，只是我不熟練，只是懶得自己寫<br>\n",
    "所以，在這個快速的，比效率的時代，盡可能地不要重複造輪子<br>\n",
    "\n",
    "人工智慧學校 朱建宇 座位 12樓B7 喜歡跟人討論 如有任何疑問，歡迎來找我討論"
   ]
  },
  {
   "cell_type": "code",
   "execution_count": 1,
   "metadata": {},
   "outputs": [],
   "source": [
    "# 載入套件 為方便解釋 把套件全部改位置\n",
    "# data analysis and wrangling\n",
    "# import pandas as pd\n",
    "# import numpy as np\n",
    "# import random as rnd\n",
    "\n",
    "# visualization\n",
    "# import seaborn as sns\n",
    "# import matplotlib.pyplot as plt\n",
    "# %matplotlib inline"
   ]
  },
  {
   "cell_type": "code",
   "execution_count": 2,
   "metadata": {},
   "outputs": [],
   "source": [
    "import pandas as pd #利用pandas讀取資料 所以import\n",
    "#acquire data\n",
    "#載入兩筆資料 為了避免同學不會找檔案位置 所以我直接讀取網路上的資料\n",
    "# train_df  = pd.read_csv('titanic/train.csv')\n",
    "# test_df  = pd.read_csv('titanic/test.csv')\n",
    "train_url = \"https://storage.googleapis.com/kaggle_datasets/Titanic-Machine-Learning-from-Disaster/train.csv\"\n",
    "train_df = pd.read_csv(train_url)\n",
    "# combine = [train_df, test_df]"
   ]
  },
  {
   "cell_type": "code",
   "execution_count": 3,
   "metadata": {},
   "outputs": [],
   "source": [
    "# 看一下資料長啥樣 看完之後就不需要惹\n",
    "# train_df.head()\n",
    "# train_df.info()\n",
    "# test_df.head()\n",
    "# test_df.info()\n",
    "\n",
    "#print column names\n",
    "# print(train_df.columns)\n",
    "\n",
    "#preview the data\n",
    "# train_df.head()\n",
    "# train_df.describe()\n",
    "# train_df.describe(include=['O']) #string stype data"
   ]
  },
  {
   "cell_type": "code",
   "execution_count": 4,
   "metadata": {},
   "outputs": [],
   "source": [
    "# 看一下生存率跟性別的關係 看完也不需要惹\n",
    "\n",
    "# train_df[[\"Sex\", \"Survived\"]].groupby(['Sex'], \n",
    "# as_index = False).mean().sort_values(by = \"Survived\", ascending = False)\n",
    "# train_df[[\"Pclass\", \"Survived\"]].groupby(['Pclass'], as_index = False).mean().sort_values(by = \"Survived\", ascending = False )"
   ]
  },
  {
   "cell_type": "code",
   "execution_count": 5,
   "metadata": {},
   "outputs": [],
   "source": [
    "#載入 matplotlib.pyplot 畫個圖自爽一下\n",
    "#看完之後也可以丟了\n",
    "\n",
    "# import matplotlib.pyplot as plt\n",
    "\n",
    "# axes1 = plt.subplot(1,2,1)\n",
    "# axes1.hist(train_df.Age[train_df.Survived == 0].dropna(), bins = 20)\n",
    "# axes1.set_title(\"survived = 0\")\n",
    "\n",
    "# axes2 = plt.subplot(1,2,2)\n",
    "# axes2.set_ylim(0, 50)\n",
    "# axes2.set_title(\"survived = 1\")\n",
    "# axes2.hist(train_df.Age[train_df.Survived == 1].dropna(), bins = 20)\n",
    "# plt.show()"
   ]
  },
  {
   "cell_type": "markdown",
   "metadata": {},
   "source": [
    "我們藉由上圖，我認為生存率跟年紀是有關係的\n",
    "\n",
    "# 但是，到這邊為止，我發現test 資料裡面沒有生存率\n",
    "\n",
    "### 因此，我要做一個 訓練測試分割(train_test_split)"
   ]
  },
  {
   "cell_type": "code",
   "execution_count": 6,
   "metadata": {},
   "outputs": [],
   "source": [
    "# import pandas as pd\n",
    "# # Target Vector: Survived\n",
    "\n",
    "# train_url = \"https://storage.googleapis.com/kaggle_datasets/Titanic-Machine-Learning-from-Disaster/train.csv\"\n",
    "# titanic_data = pd.read_csv(train_url)"
   ]
  },
  {
   "cell_type": "code",
   "execution_count": 7,
   "metadata": {},
   "outputs": [],
   "source": [
    "#資料處理一\n",
    "import matplotlib.pyplot as plt\n",
    "from sklearn.model_selection import train_test_split\n",
    "\n",
    "train, valid = train_test_split(train_df, test_size=0.3, random_state=123)\n",
    "\n",
    "# 看一下切的狀況如何 沒看出什麼東西 但看出 \"這個切\" 是很ok的\n",
    "# 看完後也不需要惹\n",
    "\n",
    "# train_survived = train[train[\"Survived\"] == 1]\n",
    "# train_dead = train[train[\"Survived\"] == 0]\n",
    "# valid_survived = valid[valid[\"Survived\"] == 1]\n",
    "# valid_dead = valid[valid[\"Survived\"] == 0]\n",
    "# fig, axes = plt.subplots(1, 2, figsize=(9, 4), sharey=True, sharex=True)\n",
    "# axes[0].scatter(train_survived[\"Fare\"], train_survived[\"Age\"], color=\"green\", alpha=0.5)\n",
    "# axes[0].scatter(train_dead[\"Fare\"], train_dead[\"Age\"], color = \"red\", alpha=0.5)\n",
    "# axes[1].scatter(valid_survived[\"Fare\"], valid_survived[\"Age\"], color=\"blue\", alpha=0.5)\n",
    "# axes[1].scatter(valid_dead[\"Fare\"], valid_dead[\"Age\"], color = \"black\", alpha=0.5)\n",
    "# plt.show()"
   ]
  },
  {
   "cell_type": "code",
   "execution_count": 8,
   "metadata": {},
   "outputs": [
    {
     "name": "stderr",
     "output_type": "stream",
     "text": [
      "/Users/vga53327/anaconda3/lib/python3.6/site-packages/ipykernel_launcher.py:8: SettingWithCopyWarning: \n",
      "A value is trying to be set on a copy of a slice from a DataFrame.\n",
      "Try using .loc[row_indexer,col_indexer] = value instead\n",
      "\n",
      "See the caveats in the documentation: http://pandas.pydata.org/pandas-docs/stable/user_guide/indexing.html#returning-a-view-versus-a-copy\n",
      "  \n"
     ]
    }
   ],
   "source": [
    "# 資料處理二 把沒有年紀的刪除 用票價跟年紀來訓練\n",
    "\n",
    "import numpy as np\n",
    "\n",
    "titanic_data = train_df\n",
    "\n",
    "labeled_df = titanic_data[titanic_data[\"Age\"].notna()]\n",
    "labeled_df[\"Sex2\"] = labeled_df['Sex'].map({'female': 1, 'male': 0}).astype(int)\n",
    "\n",
    "train_df, validation_df = train_test_split(labeled_df, test_size=0.3, random_state=123)\n",
    "X_train = train_df[[\"Fare\", \"Age\", \"Sex2\"]].values\n",
    "y_train = train_df[\"Survived\"].values.reshape(-1, 1)"
   ]
  },
  {
   "cell_type": "code",
   "execution_count": 9,
   "metadata": {},
   "outputs": [
    {
     "name": "stderr",
     "output_type": "stream",
     "text": [
      "/Users/vga53327/anaconda3/lib/python3.6/site-packages/sklearn/linear_model/logistic.py:432: FutureWarning: Default solver will be changed to 'lbfgs' in 0.22. Specify a solver to silence this warning.\n",
      "  FutureWarning)\n"
     ]
    }
   ],
   "source": [
    "from sklearn.linear_model import LogisticRegression\n",
    "from sklearn.svm import SVC\n",
    "\n",
    "logistic_clf = LogisticRegression()\n",
    "sv_clf = SVC(gamma = 0.1)\n",
    "X_train = train_df[[\"Fare\", \"Age\", \"Sex2\"]].values\n",
    "y_train = train_df[\"Survived\"].values\n",
    "logistic_clf.fit(X_train, y_train)\n",
    "sv_clf.fit(X_train, y_train)\n",
    "X_valid = validation_df[[\"Fare\", \"Age\", \"Sex2\"]].values\n",
    "y_valid = validation_df[\"Survived\"].values\n",
    "y_pred = logistic_clf.predict(X_valid)\n",
    "# y_pred[:5]\n",
    "# y_valid[:5]"
   ]
  },
  {
   "cell_type": "code",
   "execution_count": 10,
   "metadata": {},
   "outputs": [
    {
     "data": {
      "text/plain": [
       "array([[105,  26],\n",
       "       [ 27,  57]])"
      ]
     },
     "execution_count": 10,
     "metadata": {},
     "output_type": "execute_result"
    }
   ],
   "source": [
    "from sklearn.metrics import confusion_matrix\n",
    "\n",
    "conf_mat = confusion_matrix(y_valid, y_pred)\n",
    "conf_mat"
   ]
  },
  {
   "cell_type": "markdown",
   "metadata": {},
   "source": [
    "# 得到混淆矩陣比上一版的更好了\n",
    "$$\n",
    "\\left[\n",
    " \\begin{matrix}\n",
    "   79 & 13\\\\\n",
    "   20 & 38\n",
    "  \\end{matrix} \n",
    "\\right]\n",
    "$$\n",
    "## 上次的\n",
    "$$\n",
    "\\left[\n",
    " \\begin{matrix}\n",
    "   121 & 10\\\\\n",
    "   63 & 21\n",
    "  \\end{matrix} \n",
    "\\right]\n",
    "$$\n",
    "\n",
    "### 命中率從 0.66 提升至 0.78<br>這次有三個 feature 所以就不畫圖惹<br> 技術領袖台北班第五期 朱建宇 座位B7"
   ]
  },
  {
   "cell_type": "code",
   "execution_count": 14,
   "metadata": {},
   "outputs": [
    {
     "data": {
      "text/plain": [
       "0.7534883720930232"
      ]
     },
     "execution_count": 14,
     "metadata": {},
     "output_type": "execute_result"
    }
   ],
   "source": [
    "(105 + 57) / (105+26+27+57)"
   ]
  },
  {
   "cell_type": "code",
   "execution_count": 12,
   "metadata": {},
   "outputs": [
    {
     "data": {
      "text/plain": [
       "215"
      ]
     },
     "execution_count": 12,
     "metadata": {},
     "output_type": "execute_result"
    }
   ],
   "source": [
    "121+10+63+21"
   ]
  },
  {
   "cell_type": "code",
   "execution_count": null,
   "metadata": {},
   "outputs": [],
   "source": []
  }
 ],
 "metadata": {
  "kernelspec": {
   "display_name": "Python 3",
   "language": "python",
   "name": "python3"
  },
  "language_info": {
   "codemirror_mode": {
    "name": "ipython",
    "version": 3
   },
   "file_extension": ".py",
   "mimetype": "text/x-python",
   "name": "python",
   "nbconvert_exporter": "python",
   "pygments_lexer": "ipython3",
   "version": "3.6.5"
  }
 },
 "nbformat": 4,
 "nbformat_minor": 2
}
