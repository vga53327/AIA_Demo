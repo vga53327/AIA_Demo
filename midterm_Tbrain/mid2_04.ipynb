{
 "cells": [
  {
   "cell_type": "code",
   "execution_count": 1,
   "metadata": {},
   "outputs": [],
   "source": [
    "# data analysis and wrangling\n",
    "import pandas as pd\n",
    "import numpy as np\n",
    "import random as rnd\n",
    "\n",
    "# visualization\n",
    "import seaborn as sns\n",
    "import matplotlib.pyplot as plt\n",
    "from sklearn.preprocessing import MinMaxScaler\n",
    "from sklearn.preprocessing import StandardScaler\n",
    "%matplotlib inline\n",
    "import warnings\n",
    "warnings.filterwarnings('ignore')\n",
    "\n",
    "import datetime"
   ]
  },
  {
   "cell_type": "code",
   "execution_count": 2,
   "metadata": {},
   "outputs": [],
   "source": [
    "#acquire data\n",
    "train_df  = pd.read_csv('train.csv')\n",
    "test_df  = pd.read_csv('test.csv')\n",
    "all_df = train_df.append(test_df)"
   ]
  },
  {
   "cell_type": "code",
   "execution_count": 3,
   "metadata": {},
   "outputs": [],
   "source": [
    "all_df.reset_index(inplace=True, drop=True)"
   ]
  },
  {
   "cell_type": "code",
   "execution_count": 4,
   "metadata": {},
   "outputs": [
    {
     "data": {
      "text/html": [
       "<div>\n",
       "<style scoped>\n",
       "    .dataframe tbody tr th:only-of-type {\n",
       "        vertical-align: middle;\n",
       "    }\n",
       "\n",
       "    .dataframe tbody tr th {\n",
       "        vertical-align: top;\n",
       "    }\n",
       "\n",
       "    .dataframe thead th {\n",
       "        text-align: right;\n",
       "    }\n",
       "</style>\n",
       "<table border=\"1\" class=\"dataframe\">\n",
       "  <thead>\n",
       "    <tr style=\"text-align: right;\">\n",
       "      <th></th>\n",
       "      <th>acqic</th>\n",
       "      <th>bacno</th>\n",
       "      <th>cano</th>\n",
       "      <th>conam</th>\n",
       "      <th>contp</th>\n",
       "      <th>csmcu</th>\n",
       "      <th>ecfg</th>\n",
       "      <th>etymd</th>\n",
       "      <th>flbmk</th>\n",
       "      <th>flg_3dsmk</th>\n",
       "      <th>...</th>\n",
       "      <th>iterm</th>\n",
       "      <th>locdt</th>\n",
       "      <th>loctm</th>\n",
       "      <th>mcc</th>\n",
       "      <th>mchno</th>\n",
       "      <th>ovrlt</th>\n",
       "      <th>scity</th>\n",
       "      <th>stocn</th>\n",
       "      <th>stscd</th>\n",
       "      <th>txkey</th>\n",
       "    </tr>\n",
       "  </thead>\n",
       "  <tbody>\n",
       "    <tr>\n",
       "      <th>0</th>\n",
       "      <td>6881</td>\n",
       "      <td>113261</td>\n",
       "      <td>38038</td>\n",
       "      <td>513.80</td>\n",
       "      <td>5</td>\n",
       "      <td>0</td>\n",
       "      <td>N</td>\n",
       "      <td>0</td>\n",
       "      <td>N</td>\n",
       "      <td>N</td>\n",
       "      <td>...</td>\n",
       "      <td>0</td>\n",
       "      <td>33</td>\n",
       "      <td>172652.0</td>\n",
       "      <td>457</td>\n",
       "      <td>59333</td>\n",
       "      <td>N</td>\n",
       "      <td>0</td>\n",
       "      <td>102</td>\n",
       "      <td>0</td>\n",
       "      <td>516056</td>\n",
       "    </tr>\n",
       "    <tr>\n",
       "      <th>1</th>\n",
       "      <td>0</td>\n",
       "      <td>134508</td>\n",
       "      <td>45725</td>\n",
       "      <td>465.62</td>\n",
       "      <td>5</td>\n",
       "      <td>0</td>\n",
       "      <td>N</td>\n",
       "      <td>2</td>\n",
       "      <td>N</td>\n",
       "      <td>N</td>\n",
       "      <td>...</td>\n",
       "      <td>0</td>\n",
       "      <td>9</td>\n",
       "      <td>105114.0</td>\n",
       "      <td>451</td>\n",
       "      <td>0</td>\n",
       "      <td>N</td>\n",
       "      <td>5817</td>\n",
       "      <td>102</td>\n",
       "      <td>0</td>\n",
       "      <td>4376</td>\n",
       "    </tr>\n",
       "    <tr>\n",
       "      <th>2</th>\n",
       "      <td>6881</td>\n",
       "      <td>15408</td>\n",
       "      <td>188328</td>\n",
       "      <td>513.80</td>\n",
       "      <td>5</td>\n",
       "      <td>0</td>\n",
       "      <td>N</td>\n",
       "      <td>0</td>\n",
       "      <td>N</td>\n",
       "      <td>N</td>\n",
       "      <td>...</td>\n",
       "      <td>0</td>\n",
       "      <td>6</td>\n",
       "      <td>152458.0</td>\n",
       "      <td>457</td>\n",
       "      <td>59333</td>\n",
       "      <td>N</td>\n",
       "      <td>0</td>\n",
       "      <td>102</td>\n",
       "      <td>0</td>\n",
       "      <td>483434</td>\n",
       "    </tr>\n",
       "    <tr>\n",
       "      <th>3</th>\n",
       "      <td>6716</td>\n",
       "      <td>157159</td>\n",
       "      <td>29967</td>\n",
       "      <td>1016.11</td>\n",
       "      <td>5</td>\n",
       "      <td>62</td>\n",
       "      <td>N</td>\n",
       "      <td>5</td>\n",
       "      <td>N</td>\n",
       "      <td>N</td>\n",
       "      <td>...</td>\n",
       "      <td>0</td>\n",
       "      <td>5</td>\n",
       "      <td>172946.0</td>\n",
       "      <td>247</td>\n",
       "      <td>50436</td>\n",
       "      <td>N</td>\n",
       "      <td>3281</td>\n",
       "      <td>102</td>\n",
       "      <td>0</td>\n",
       "      <td>1407164</td>\n",
       "    </tr>\n",
       "    <tr>\n",
       "      <th>4</th>\n",
       "      <td>5975</td>\n",
       "      <td>105985</td>\n",
       "      <td>81305</td>\n",
       "      <td>713.66</td>\n",
       "      <td>5</td>\n",
       "      <td>62</td>\n",
       "      <td>N</td>\n",
       "      <td>4</td>\n",
       "      <td>N</td>\n",
       "      <td>N</td>\n",
       "      <td>...</td>\n",
       "      <td>0</td>\n",
       "      <td>6</td>\n",
       "      <td>182129.0</td>\n",
       "      <td>263</td>\n",
       "      <td>93775</td>\n",
       "      <td>N</td>\n",
       "      <td>5817</td>\n",
       "      <td>102</td>\n",
       "      <td>0</td>\n",
       "      <td>1051004</td>\n",
       "    </tr>\n",
       "  </tbody>\n",
       "</table>\n",
       "<p>5 rows × 23 columns</p>\n",
       "</div>"
      ],
      "text/plain": [
       "   acqic   bacno    cano    conam  contp  csmcu ecfg  etymd flbmk flg_3dsmk  \\\n",
       "0   6881  113261   38038   513.80      5      0    N      0     N         N   \n",
       "1      0  134508   45725   465.62      5      0    N      2     N         N   \n",
       "2   6881   15408  188328   513.80      5      0    N      0     N         N   \n",
       "3   6716  157159   29967  1016.11      5     62    N      5     N         N   \n",
       "4   5975  105985   81305   713.66      5     62    N      4     N         N   \n",
       "\n",
       "    ...     iterm  locdt     loctm  mcc  mchno  ovrlt  scity  stocn stscd  \\\n",
       "0   ...         0     33  172652.0  457  59333      N      0    102     0   \n",
       "1   ...         0      9  105114.0  451      0      N   5817    102     0   \n",
       "2   ...         0      6  152458.0  457  59333      N      0    102     0   \n",
       "3   ...         0      5  172946.0  247  50436      N   3281    102     0   \n",
       "4   ...         0      6  182129.0  263  93775      N   5817    102     0   \n",
       "\n",
       "     txkey  \n",
       "0   516056  \n",
       "1     4376  \n",
       "2   483434  \n",
       "3  1407164  \n",
       "4  1051004  \n",
       "\n",
       "[5 rows x 23 columns]"
      ]
     },
     "execution_count": 4,
     "metadata": {},
     "output_type": "execute_result"
    }
   ],
   "source": [
    "all_df.head()"
   ]
  },
  {
   "cell_type": "markdown",
   "metadata": {},
   "source": [
    "## 觀察資料的一些統計值"
   ]
  },
  {
   "cell_type": "code",
   "execution_count": 5,
   "metadata": {},
   "outputs": [
    {
     "data": {
      "text/html": [
       "<div>\n",
       "<style scoped>\n",
       "    .dataframe tbody tr th:only-of-type {\n",
       "        vertical-align: middle;\n",
       "    }\n",
       "\n",
       "    .dataframe tbody tr th {\n",
       "        vertical-align: top;\n",
       "    }\n",
       "\n",
       "    .dataframe thead th {\n",
       "        text-align: right;\n",
       "    }\n",
       "</style>\n",
       "<table border=\"1\" class=\"dataframe\">\n",
       "  <thead>\n",
       "    <tr style=\"text-align: right;\">\n",
       "      <th></th>\n",
       "      <th>acqic</th>\n",
       "      <th>bacno</th>\n",
       "      <th>cano</th>\n",
       "      <th>conam</th>\n",
       "      <th>contp</th>\n",
       "      <th>csmcu</th>\n",
       "      <th>etymd</th>\n",
       "      <th>fraud_ind</th>\n",
       "      <th>hcefg</th>\n",
       "      <th>iterm</th>\n",
       "      <th>locdt</th>\n",
       "      <th>loctm</th>\n",
       "      <th>mcc</th>\n",
       "      <th>mchno</th>\n",
       "      <th>scity</th>\n",
       "      <th>stocn</th>\n",
       "      <th>stscd</th>\n",
       "      <th>txkey</th>\n",
       "    </tr>\n",
       "  </thead>\n",
       "  <tbody>\n",
       "    <tr>\n",
       "      <th>count</th>\n",
       "      <td>1.943452e+06</td>\n",
       "      <td>1.943452e+06</td>\n",
       "      <td>1.943452e+06</td>\n",
       "      <td>1.943452e+06</td>\n",
       "      <td>1.943452e+06</td>\n",
       "      <td>1.943452e+06</td>\n",
       "      <td>1.943452e+06</td>\n",
       "      <td>1.521787e+06</td>\n",
       "      <td>1.943452e+06</td>\n",
       "      <td>1.943452e+06</td>\n",
       "      <td>1.943452e+06</td>\n",
       "      <td>1.943452e+06</td>\n",
       "      <td>1.943452e+06</td>\n",
       "      <td>1.943452e+06</td>\n",
       "      <td>1.943452e+06</td>\n",
       "      <td>1.943452e+06</td>\n",
       "      <td>1.943452e+06</td>\n",
       "      <td>1.943452e+06</td>\n",
       "    </tr>\n",
       "    <tr>\n",
       "      <th>mean</th>\n",
       "      <td>6.004543e+03</td>\n",
       "      <td>8.208741e+04</td>\n",
       "      <td>1.090453e+05</td>\n",
       "      <td>6.516174e+02</td>\n",
       "      <td>4.825625e+00</td>\n",
       "      <td>5.378875e+01</td>\n",
       "      <td>4.142680e+00</td>\n",
       "      <td>1.337572e-02</td>\n",
       "      <td>4.748365e+00</td>\n",
       "      <td>4.841128e-02</td>\n",
       "      <td>5.839281e+01</td>\n",
       "      <td>1.460061e+05</td>\n",
       "      <td>2.979138e+02</td>\n",
       "      <td>5.589230e+04</td>\n",
       "      <td>4.754399e+03</td>\n",
       "      <td>9.562308e+01</td>\n",
       "      <td>2.475286e-02</td>\n",
       "      <td>9.791667e+05</td>\n",
       "    </tr>\n",
       "    <tr>\n",
       "      <th>std</th>\n",
       "      <td>1.505735e+03</td>\n",
       "      <td>4.732348e+04</td>\n",
       "      <td>6.110356e+04</td>\n",
       "      <td>4.032183e+02</td>\n",
       "      <td>6.557577e-01</td>\n",
       "      <td>2.076681e+01</td>\n",
       "      <td>2.402570e+00</td>\n",
       "      <td>1.148774e-01</td>\n",
       "      <td>1.114383e+00</td>\n",
       "      <td>3.615652e-01</td>\n",
       "      <td>3.409522e+01</td>\n",
       "      <td>5.227967e+04</td>\n",
       "      <td>7.841150e+01</td>\n",
       "      <td>3.082944e+04</td>\n",
       "      <td>1.982351e+03</td>\n",
       "      <td>1.896446e+01</td>\n",
       "      <td>2.211643e-01</td>\n",
       "      <td>5.654969e+05</td>\n",
       "    </tr>\n",
       "    <tr>\n",
       "      <th>min</th>\n",
       "      <td>0.000000e+00</td>\n",
       "      <td>0.000000e+00</td>\n",
       "      <td>0.000000e+00</td>\n",
       "      <td>0.000000e+00</td>\n",
       "      <td>0.000000e+00</td>\n",
       "      <td>0.000000e+00</td>\n",
       "      <td>0.000000e+00</td>\n",
       "      <td>0.000000e+00</td>\n",
       "      <td>0.000000e+00</td>\n",
       "      <td>0.000000e+00</td>\n",
       "      <td>1.000000e+00</td>\n",
       "      <td>0.000000e+00</td>\n",
       "      <td>0.000000e+00</td>\n",
       "      <td>0.000000e+00</td>\n",
       "      <td>0.000000e+00</td>\n",
       "      <td>0.000000e+00</td>\n",
       "      <td>0.000000e+00</td>\n",
       "      <td>0.000000e+00</td>\n",
       "    </tr>\n",
       "    <tr>\n",
       "      <th>25%</th>\n",
       "      <td>5.982000e+03</td>\n",
       "      <td>4.129400e+04</td>\n",
       "      <td>5.751900e+04</td>\n",
       "      <td>4.300400e+02</td>\n",
       "      <td>5.000000e+00</td>\n",
       "      <td>6.200000e+01</td>\n",
       "      <td>2.000000e+00</td>\n",
       "      <td>0.000000e+00</td>\n",
       "      <td>5.000000e+00</td>\n",
       "      <td>0.000000e+00</td>\n",
       "      <td>2.900000e+01</td>\n",
       "      <td>1.104500e+05</td>\n",
       "      <td>2.500000e+02</td>\n",
       "      <td>3.362500e+04</td>\n",
       "      <td>3.952000e+03</td>\n",
       "      <td>1.020000e+02</td>\n",
       "      <td>0.000000e+00</td>\n",
       "      <td>4.896218e+05</td>\n",
       "    </tr>\n",
       "    <tr>\n",
       "      <th>50%</th>\n",
       "      <td>6.678000e+03</td>\n",
       "      <td>8.196600e+04</td>\n",
       "      <td>1.099410e+05</td>\n",
       "      <td>5.887500e+02</td>\n",
       "      <td>5.000000e+00</td>\n",
       "      <td>6.200000e+01</td>\n",
       "      <td>4.000000e+00</td>\n",
       "      <td>0.000000e+00</td>\n",
       "      <td>5.000000e+00</td>\n",
       "      <td>0.000000e+00</td>\n",
       "      <td>5.800000e+01</td>\n",
       "      <td>1.513290e+05</td>\n",
       "      <td>2.640000e+02</td>\n",
       "      <td>5.933300e+04</td>\n",
       "      <td>5.817000e+03</td>\n",
       "      <td>1.020000e+02</td>\n",
       "      <td>0.000000e+00</td>\n",
       "      <td>9.794235e+05</td>\n",
       "    </tr>\n",
       "    <tr>\n",
       "      <th>75%</th>\n",
       "      <td>6.769000e+03</td>\n",
       "      <td>1.229640e+05</td>\n",
       "      <td>1.621700e+05</td>\n",
       "      <td>8.025400e+02</td>\n",
       "      <td>5.000000e+00</td>\n",
       "      <td>6.200000e+01</td>\n",
       "      <td>5.000000e+00</td>\n",
       "      <td>0.000000e+00</td>\n",
       "      <td>5.000000e+00</td>\n",
       "      <td>0.000000e+00</td>\n",
       "      <td>8.700000e+01</td>\n",
       "      <td>1.857550e+05</td>\n",
       "      <td>3.430000e+02</td>\n",
       "      <td>7.920000e+04</td>\n",
       "      <td>5.817000e+03</td>\n",
       "      <td>1.020000e+02</td>\n",
       "      <td>0.000000e+00</td>\n",
       "      <td>1.468711e+06</td>\n",
       "    </tr>\n",
       "    <tr>\n",
       "      <th>max</th>\n",
       "      <td>6.884000e+03</td>\n",
       "      <td>1.638860e+05</td>\n",
       "      <td>2.135750e+05</td>\n",
       "      <td>7.208770e+03</td>\n",
       "      <td>6.000000e+00</td>\n",
       "      <td>7.500000e+01</td>\n",
       "      <td>1.000000e+01</td>\n",
       "      <td>1.000000e+00</td>\n",
       "      <td>9.000000e+00</td>\n",
       "      <td>8.000000e+00</td>\n",
       "      <td>1.200000e+02</td>\n",
       "      <td>2.359590e+05</td>\n",
       "      <td>4.590000e+02</td>\n",
       "      <td>1.033070e+05</td>\n",
       "      <td>6.671000e+03</td>\n",
       "      <td>1.080000e+02</td>\n",
       "      <td>4.000000e+00</td>\n",
       "      <td>1.959018e+06</td>\n",
       "    </tr>\n",
       "  </tbody>\n",
       "</table>\n",
       "</div>"
      ],
      "text/plain": [
       "              acqic         bacno          cano         conam         contp  \\\n",
       "count  1.943452e+06  1.943452e+06  1.943452e+06  1.943452e+06  1.943452e+06   \n",
       "mean   6.004543e+03  8.208741e+04  1.090453e+05  6.516174e+02  4.825625e+00   \n",
       "std    1.505735e+03  4.732348e+04  6.110356e+04  4.032183e+02  6.557577e-01   \n",
       "min    0.000000e+00  0.000000e+00  0.000000e+00  0.000000e+00  0.000000e+00   \n",
       "25%    5.982000e+03  4.129400e+04  5.751900e+04  4.300400e+02  5.000000e+00   \n",
       "50%    6.678000e+03  8.196600e+04  1.099410e+05  5.887500e+02  5.000000e+00   \n",
       "75%    6.769000e+03  1.229640e+05  1.621700e+05  8.025400e+02  5.000000e+00   \n",
       "max    6.884000e+03  1.638860e+05  2.135750e+05  7.208770e+03  6.000000e+00   \n",
       "\n",
       "              csmcu         etymd     fraud_ind         hcefg         iterm  \\\n",
       "count  1.943452e+06  1.943452e+06  1.521787e+06  1.943452e+06  1.943452e+06   \n",
       "mean   5.378875e+01  4.142680e+00  1.337572e-02  4.748365e+00  4.841128e-02   \n",
       "std    2.076681e+01  2.402570e+00  1.148774e-01  1.114383e+00  3.615652e-01   \n",
       "min    0.000000e+00  0.000000e+00  0.000000e+00  0.000000e+00  0.000000e+00   \n",
       "25%    6.200000e+01  2.000000e+00  0.000000e+00  5.000000e+00  0.000000e+00   \n",
       "50%    6.200000e+01  4.000000e+00  0.000000e+00  5.000000e+00  0.000000e+00   \n",
       "75%    6.200000e+01  5.000000e+00  0.000000e+00  5.000000e+00  0.000000e+00   \n",
       "max    7.500000e+01  1.000000e+01  1.000000e+00  9.000000e+00  8.000000e+00   \n",
       "\n",
       "              locdt         loctm           mcc         mchno         scity  \\\n",
       "count  1.943452e+06  1.943452e+06  1.943452e+06  1.943452e+06  1.943452e+06   \n",
       "mean   5.839281e+01  1.460061e+05  2.979138e+02  5.589230e+04  4.754399e+03   \n",
       "std    3.409522e+01  5.227967e+04  7.841150e+01  3.082944e+04  1.982351e+03   \n",
       "min    1.000000e+00  0.000000e+00  0.000000e+00  0.000000e+00  0.000000e+00   \n",
       "25%    2.900000e+01  1.104500e+05  2.500000e+02  3.362500e+04  3.952000e+03   \n",
       "50%    5.800000e+01  1.513290e+05  2.640000e+02  5.933300e+04  5.817000e+03   \n",
       "75%    8.700000e+01  1.857550e+05  3.430000e+02  7.920000e+04  5.817000e+03   \n",
       "max    1.200000e+02  2.359590e+05  4.590000e+02  1.033070e+05  6.671000e+03   \n",
       "\n",
       "              stocn         stscd         txkey  \n",
       "count  1.943452e+06  1.943452e+06  1.943452e+06  \n",
       "mean   9.562308e+01  2.475286e-02  9.791667e+05  \n",
       "std    1.896446e+01  2.211643e-01  5.654969e+05  \n",
       "min    0.000000e+00  0.000000e+00  0.000000e+00  \n",
       "25%    1.020000e+02  0.000000e+00  4.896218e+05  \n",
       "50%    1.020000e+02  0.000000e+00  9.794235e+05  \n",
       "75%    1.020000e+02  0.000000e+00  1.468711e+06  \n",
       "max    1.080000e+02  4.000000e+00  1.959018e+06  "
      ]
     },
     "execution_count": 5,
     "metadata": {},
     "output_type": "execute_result"
    }
   ],
   "source": [
    "all_df.describe()"
   ]
  },
  {
   "cell_type": "code",
   "execution_count": 6,
   "metadata": {},
   "outputs": [
    {
     "name": "stdout",
     "output_type": "stream",
     "text": [
      "<class 'pandas.core.frame.DataFrame'>\n",
      "RangeIndex: 1943452 entries, 0 to 1943451\n",
      "Data columns (total 23 columns):\n",
      "acqic        int64\n",
      "bacno        int64\n",
      "cano         int64\n",
      "conam        float64\n",
      "contp        int64\n",
      "csmcu        int64\n",
      "ecfg         object\n",
      "etymd        int64\n",
      "flbmk        object\n",
      "flg_3dsmk    object\n",
      "fraud_ind    float64\n",
      "hcefg        int64\n",
      "insfg        object\n",
      "iterm        int64\n",
      "locdt        int64\n",
      "loctm        float64\n",
      "mcc          int64\n",
      "mchno        int64\n",
      "ovrlt        object\n",
      "scity        int64\n",
      "stocn        int64\n",
      "stscd        int64\n",
      "txkey        int64\n",
      "dtypes: float64(3), int64(15), object(5)\n",
      "memory usage: 341.0+ MB\n"
     ]
    }
   ],
   "source": [
    "all_df.info()"
   ]
  },
  {
   "cell_type": "code",
   "execution_count": 7,
   "metadata": {},
   "outputs": [
    {
     "data": {
      "text/html": [
       "<div>\n",
       "<style scoped>\n",
       "    .dataframe tbody tr th:only-of-type {\n",
       "        vertical-align: middle;\n",
       "    }\n",
       "\n",
       "    .dataframe tbody tr th {\n",
       "        vertical-align: top;\n",
       "    }\n",
       "\n",
       "    .dataframe thead th {\n",
       "        text-align: right;\n",
       "    }\n",
       "</style>\n",
       "<table border=\"1\" class=\"dataframe\">\n",
       "  <thead>\n",
       "    <tr style=\"text-align: right;\">\n",
       "      <th></th>\n",
       "      <th>acqic</th>\n",
       "      <th>bacno</th>\n",
       "      <th>cano</th>\n",
       "      <th>conam</th>\n",
       "      <th>contp</th>\n",
       "      <th>csmcu</th>\n",
       "      <th>etymd</th>\n",
       "      <th>hcefg</th>\n",
       "      <th>iterm</th>\n",
       "      <th>locdt</th>\n",
       "      <th>loctm</th>\n",
       "      <th>mcc</th>\n",
       "      <th>mchno</th>\n",
       "      <th>scity</th>\n",
       "      <th>stocn</th>\n",
       "      <th>stscd</th>\n",
       "      <th>txkey</th>\n",
       "    </tr>\n",
       "    <tr>\n",
       "      <th>fraud_ind</th>\n",
       "      <th></th>\n",
       "      <th></th>\n",
       "      <th></th>\n",
       "      <th></th>\n",
       "      <th></th>\n",
       "      <th></th>\n",
       "      <th></th>\n",
       "      <th></th>\n",
       "      <th></th>\n",
       "      <th></th>\n",
       "      <th></th>\n",
       "      <th></th>\n",
       "      <th></th>\n",
       "      <th></th>\n",
       "      <th></th>\n",
       "      <th></th>\n",
       "      <th></th>\n",
       "    </tr>\n",
       "  </thead>\n",
       "  <tbody>\n",
       "    <tr>\n",
       "      <th>0.0</th>\n",
       "      <td>9042587114</td>\n",
       "      <td>123250593278</td>\n",
       "      <td>163482476248</td>\n",
       "      <td>9.818490e+08</td>\n",
       "      <td>7248321</td>\n",
       "      <td>80778143</td>\n",
       "      <td>6201258</td>\n",
       "      <td>7125821</td>\n",
       "      <td>75449</td>\n",
       "      <td>68109434</td>\n",
       "      <td>2.200713e+11</td>\n",
       "      <td>447178405</td>\n",
       "      <td>83981036021</td>\n",
       "      <td>7149439802</td>\n",
       "      <td>144147015</td>\n",
       "      <td>26497</td>\n",
       "      <td>1454724032904</td>\n",
       "    </tr>\n",
       "    <tr>\n",
       "      <th>1.0</th>\n",
       "      <td>100313285</td>\n",
       "      <td>1673308849</td>\n",
       "      <td>2266064645</td>\n",
       "      <td>1.449818e+07</td>\n",
       "      <td>100949</td>\n",
       "      <td>1144577</td>\n",
       "      <td>112810</td>\n",
       "      <td>101769</td>\n",
       "      <td>74</td>\n",
       "      <td>869085</td>\n",
       "      <td>2.589286e+09</td>\n",
       "      <td>6023373</td>\n",
       "      <td>1071978969</td>\n",
       "      <td>86852115</td>\n",
       "      <td>1413678</td>\n",
       "      <td>11327</td>\n",
       "      <td>23123718525</td>\n",
       "    </tr>\n",
       "  </tbody>\n",
       "</table>\n",
       "</div>"
      ],
      "text/plain": [
       "                acqic         bacno          cano         conam    contp  \\\n",
       "fraud_ind                                                                  \n",
       "0.0        9042587114  123250593278  163482476248  9.818490e+08  7248321   \n",
       "1.0         100313285    1673308849    2266064645  1.449818e+07   100949   \n",
       "\n",
       "              csmcu    etymd    hcefg  iterm     locdt         loctm  \\\n",
       "fraud_ind                                                              \n",
       "0.0        80778143  6201258  7125821  75449  68109434  2.200713e+11   \n",
       "1.0         1144577   112810   101769     74    869085  2.589286e+09   \n",
       "\n",
       "                 mcc        mchno       scity      stocn  stscd          txkey  \n",
       "fraud_ind                                                                       \n",
       "0.0        447178405  83981036021  7149439802  144147015  26497  1454724032904  \n",
       "1.0          6023373   1071978969    86852115    1413678  11327    23123718525  "
      ]
     },
     "execution_count": 7,
     "metadata": {},
     "output_type": "execute_result"
    }
   ],
   "source": [
    "all_df.groupby(\"fraud_ind\").sum()"
   ]
  },
  {
   "cell_type": "code",
   "execution_count": 8,
   "metadata": {},
   "outputs": [
    {
     "name": "stdout",
     "output_type": "stream",
     "text": [
      "(1943452, 16)\n",
      "(1943452, 5)\n"
     ]
    }
   ],
   "source": [
    "num_features = all_df.select_dtypes(include=['int64',\"float64\"])\n",
    "categorical_features = all_df.select_dtypes(include='object')\n",
    "\n",
    "num_features = num_features.drop([\"fraud_ind\",\"txkey\"], axis=1)\n",
    "y_series = all_df.fraud_ind\n",
    "txkey_series = all_df.txkey\n",
    "\n",
    "print(num_features.shape)\n",
    "print(categorical_features.shape)"
   ]
  },
  {
   "cell_type": "code",
   "execution_count": 9,
   "metadata": {},
   "outputs": [
    {
     "name": "stdout",
     "output_type": "stream",
     "text": [
      "contp\n",
      "etymd\n",
      "hcefg\n",
      "stscd\n"
     ]
    }
   ],
   "source": [
    "dummies_list = [\"contp\",\"etymd\",\"hcefg\",\"stscd\"]\n",
    "my_dummies_df = num_features[dummies_list]\n",
    "dummies_df=pd.DataFrame()\n",
    "# # object_features = categorical_features.select_dtypes(include='object').columns\n",
    "for name in dummies_list:\n",
    "    print(name)\n",
    "    dummies = pd.get_dummies(my_dummies_df[name], drop_first=False)\n",
    "    dummies = dummies.add_prefix(\"{}_\".format(name))\n",
    "    dummies_df=pd.concat([dummies_df,dummies],axis=1)"
   ]
  },
  {
   "cell_type": "code",
   "execution_count": 10,
   "metadata": {},
   "outputs": [],
   "source": [
    "num_features = num_features.drop(dummies_list, axis=1)"
   ]
  },
  {
   "cell_type": "code",
   "execution_count": 11,
   "metadata": {},
   "outputs": [
    {
     "data": {
      "text/plain": [
       "Index(['contp_0', 'contp_1', 'contp_2', 'contp_3', 'contp_4', 'contp_5',\n",
       "       'contp_6', 'etymd_0', 'etymd_1', 'etymd_2', 'etymd_3', 'etymd_4',\n",
       "       'etymd_5', 'etymd_6', 'etymd_7', 'etymd_8', 'etymd_9', 'etymd_10',\n",
       "       'hcefg_0', 'hcefg_1', 'hcefg_2', 'hcefg_3', 'hcefg_4', 'hcefg_5',\n",
       "       'hcefg_6', 'hcefg_7', 'hcefg_8', 'hcefg_9', 'stscd_0', 'stscd_1',\n",
       "       'stscd_2', 'stscd_3', 'stscd_4'],\n",
       "      dtype='object')"
      ]
     },
     "execution_count": 11,
     "metadata": {},
     "output_type": "execute_result"
    }
   ],
   "source": [
    "dummies_df.columns"
   ]
  },
  {
   "cell_type": "code",
   "execution_count": 12,
   "metadata": {},
   "outputs": [],
   "source": [
    "categorical_features[\"null\"] = categorical_features[\"flbmk\"].isnull()"
   ]
  },
  {
   "cell_type": "code",
   "execution_count": 13,
   "metadata": {},
   "outputs": [],
   "source": [
    "categorical_features = categorical_features.fillna(0)"
   ]
  },
  {
   "cell_type": "code",
   "execution_count": 14,
   "metadata": {},
   "outputs": [],
   "source": [
    "categorical_features = categorical_features.replace([\"Y\", \"N\"], [1, 0 ])"
   ]
  },
  {
   "cell_type": "code",
   "execution_count": 15,
   "metadata": {},
   "outputs": [],
   "source": [
    "# num_features[30:35]"
   ]
  },
  {
   "cell_type": "code",
   "execution_count": 16,
   "metadata": {},
   "outputs": [],
   "source": [
    "# num_features.groupby(\"iterm\").sum()"
   ]
  },
  {
   "cell_type": "code",
   "execution_count": 17,
   "metadata": {},
   "outputs": [
    {
     "data": {
      "text/html": [
       "<div>\n",
       "<style scoped>\n",
       "    .dataframe tbody tr th:only-of-type {\n",
       "        vertical-align: middle;\n",
       "    }\n",
       "\n",
       "    .dataframe tbody tr th {\n",
       "        vertical-align: top;\n",
       "    }\n",
       "\n",
       "    .dataframe thead th {\n",
       "        text-align: right;\n",
       "    }\n",
       "</style>\n",
       "<table border=\"1\" class=\"dataframe\">\n",
       "  <thead>\n",
       "    <tr style=\"text-align: right;\">\n",
       "      <th></th>\n",
       "      <th>ecfg</th>\n",
       "      <th>flbmk</th>\n",
       "      <th>flg_3dsmk</th>\n",
       "      <th>insfg</th>\n",
       "      <th>ovrlt</th>\n",
       "      <th>null</th>\n",
       "    </tr>\n",
       "  </thead>\n",
       "  <tbody>\n",
       "    <tr>\n",
       "      <th>0</th>\n",
       "      <td>0</td>\n",
       "      <td>0</td>\n",
       "      <td>0</td>\n",
       "      <td>0</td>\n",
       "      <td>0</td>\n",
       "      <td>False</td>\n",
       "    </tr>\n",
       "    <tr>\n",
       "      <th>1</th>\n",
       "      <td>0</td>\n",
       "      <td>0</td>\n",
       "      <td>0</td>\n",
       "      <td>0</td>\n",
       "      <td>0</td>\n",
       "      <td>False</td>\n",
       "    </tr>\n",
       "    <tr>\n",
       "      <th>2</th>\n",
       "      <td>0</td>\n",
       "      <td>0</td>\n",
       "      <td>0</td>\n",
       "      <td>0</td>\n",
       "      <td>0</td>\n",
       "      <td>False</td>\n",
       "    </tr>\n",
       "    <tr>\n",
       "      <th>3</th>\n",
       "      <td>0</td>\n",
       "      <td>0</td>\n",
       "      <td>0</td>\n",
       "      <td>0</td>\n",
       "      <td>0</td>\n",
       "      <td>False</td>\n",
       "    </tr>\n",
       "    <tr>\n",
       "      <th>4</th>\n",
       "      <td>0</td>\n",
       "      <td>0</td>\n",
       "      <td>0</td>\n",
       "      <td>0</td>\n",
       "      <td>0</td>\n",
       "      <td>False</td>\n",
       "    </tr>\n",
       "  </tbody>\n",
       "</table>\n",
       "</div>"
      ],
      "text/plain": [
       "   ecfg  flbmk  flg_3dsmk  insfg  ovrlt   null\n",
       "0     0      0          0      0      0  False\n",
       "1     0      0          0      0      0  False\n",
       "2     0      0          0      0      0  False\n",
       "3     0      0          0      0      0  False\n",
       "4     0      0          0      0      0  False"
      ]
     },
     "execution_count": 17,
     "metadata": {},
     "output_type": "execute_result"
    }
   ],
   "source": [
    "categorical_features.head()"
   ]
  },
  {
   "cell_type": "code",
   "execution_count": 18,
   "metadata": {},
   "outputs": [
    {
     "data": {
      "text/html": [
       "<div>\n",
       "<style scoped>\n",
       "    .dataframe tbody tr th:only-of-type {\n",
       "        vertical-align: middle;\n",
       "    }\n",
       "\n",
       "    .dataframe tbody tr th {\n",
       "        vertical-align: top;\n",
       "    }\n",
       "\n",
       "    .dataframe thead th {\n",
       "        text-align: right;\n",
       "    }\n",
       "</style>\n",
       "<table border=\"1\" class=\"dataframe\">\n",
       "  <thead>\n",
       "    <tr style=\"text-align: right;\">\n",
       "      <th></th>\n",
       "      <th>acqic</th>\n",
       "      <th>bacno</th>\n",
       "      <th>cano</th>\n",
       "      <th>conam</th>\n",
       "      <th>csmcu</th>\n",
       "      <th>iterm</th>\n",
       "      <th>locdt</th>\n",
       "      <th>loctm</th>\n",
       "      <th>mcc</th>\n",
       "      <th>mchno</th>\n",
       "      <th>scity</th>\n",
       "      <th>stocn</th>\n",
       "    </tr>\n",
       "  </thead>\n",
       "  <tbody>\n",
       "    <tr>\n",
       "      <th>0</th>\n",
       "      <td>0.582079</td>\n",
       "      <td>0.658734</td>\n",
       "      <td>-1.162081</td>\n",
       "      <td>-0.341794</td>\n",
       "      <td>-2.590131</td>\n",
       "      <td>-0.133894</td>\n",
       "      <td>-0.744762</td>\n",
       "      <td>0.509681</td>\n",
       "      <td>2.028863</td>\n",
       "      <td>0.111604</td>\n",
       "      <td>-2.398364</td>\n",
       "      <td>0.336256</td>\n",
       "    </tr>\n",
       "    <tr>\n",
       "      <th>1</th>\n",
       "      <td>-3.987783</td>\n",
       "      <td>1.107708</td>\n",
       "      <td>-1.036278</td>\n",
       "      <td>-0.461282</td>\n",
       "      <td>-2.590131</td>\n",
       "      <td>-0.133894</td>\n",
       "      <td>-1.448673</td>\n",
       "      <td>-0.782179</td>\n",
       "      <td>1.952344</td>\n",
       "      <td>-1.812952</td>\n",
       "      <td>0.536031</td>\n",
       "      <td>0.336256</td>\n",
       "    </tr>\n",
       "    <tr>\n",
       "      <th>2</th>\n",
       "      <td>0.582079</td>\n",
       "      <td>-1.409013</td>\n",
       "      <td>1.297514</td>\n",
       "      <td>-0.341794</td>\n",
       "      <td>-2.590131</td>\n",
       "      <td>-0.133894</td>\n",
       "      <td>-1.536662</td>\n",
       "      <td>0.123412</td>\n",
       "      <td>2.028863</td>\n",
       "      <td>0.111604</td>\n",
       "      <td>-2.398364</td>\n",
       "      <td>0.336256</td>\n",
       "    </tr>\n",
       "    <tr>\n",
       "      <th>3</th>\n",
       "      <td>0.472498</td>\n",
       "      <td>1.586350</td>\n",
       "      <td>-1.294169</td>\n",
       "      <td>0.903959</td>\n",
       "      <td>0.395402</td>\n",
       "      <td>-0.133894</td>\n",
       "      <td>-1.565992</td>\n",
       "      <td>0.515305</td>\n",
       "      <td>-0.649316</td>\n",
       "      <td>-0.176983</td>\n",
       "      <td>-0.743258</td>\n",
       "      <td>0.336256</td>\n",
       "    </tr>\n",
       "    <tr>\n",
       "      <th>4</th>\n",
       "      <td>-0.019621</td>\n",
       "      <td>0.504984</td>\n",
       "      <td>-0.453988</td>\n",
       "      <td>0.153869</td>\n",
       "      <td>0.395402</td>\n",
       "      <td>-0.133894</td>\n",
       "      <td>-1.536662</td>\n",
       "      <td>0.690956</td>\n",
       "      <td>-0.445264</td>\n",
       "      <td>1.228783</td>\n",
       "      <td>0.536031</td>\n",
       "      <td>0.336256</td>\n",
       "    </tr>\n",
       "  </tbody>\n",
       "</table>\n",
       "</div>"
      ],
      "text/plain": [
       "      acqic     bacno      cano     conam     csmcu     iterm     locdt  \\\n",
       "0  0.582079  0.658734 -1.162081 -0.341794 -2.590131 -0.133894 -0.744762   \n",
       "1 -3.987783  1.107708 -1.036278 -0.461282 -2.590131 -0.133894 -1.448673   \n",
       "2  0.582079 -1.409013  1.297514 -0.341794 -2.590131 -0.133894 -1.536662   \n",
       "3  0.472498  1.586350 -1.294169  0.903959  0.395402 -0.133894 -1.565992   \n",
       "4 -0.019621  0.504984 -0.453988  0.153869  0.395402 -0.133894 -1.536662   \n",
       "\n",
       "      loctm       mcc     mchno     scity     stocn  \n",
       "0  0.509681  2.028863  0.111604 -2.398364  0.336256  \n",
       "1 -0.782179  1.952344 -1.812952  0.536031  0.336256  \n",
       "2  0.123412  2.028863  0.111604 -2.398364  0.336256  \n",
       "3  0.515305 -0.649316 -0.176983 -0.743258  0.336256  \n",
       "4  0.690956 -0.445264  1.228783  0.536031  0.336256  "
      ]
     },
     "execution_count": 18,
     "metadata": {},
     "output_type": "execute_result"
    }
   ],
   "source": [
    "scaler = StandardScaler()\n",
    "\n",
    "num_features_arr = scaler.fit_transform(num_features.values)\n",
    "\n",
    "num_features = pd.DataFrame(data=num_features_arr,index=num_features.index,columns=num_features.columns)\n",
    "\n",
    "num_features.head()"
   ]
  },
  {
   "cell_type": "code",
   "execution_count": null,
   "metadata": {},
   "outputs": [],
   "source": []
  },
  {
   "cell_type": "code",
   "execution_count": null,
   "metadata": {},
   "outputs": [],
   "source": []
  },
  {
   "cell_type": "code",
   "execution_count": null,
   "metadata": {},
   "outputs": [],
   "source": []
  },
  {
   "cell_type": "code",
   "execution_count": 19,
   "metadata": {},
   "outputs": [],
   "source": [
    "# categorical_features=categorical_features.drop(columns=\"flbmk\",axis=1)\n",
    "# categorical_features.columns"
   ]
  },
  {
   "cell_type": "code",
   "execution_count": 20,
   "metadata": {},
   "outputs": [
    {
     "data": {
      "text/plain": [
       "(1943452, 51)"
      ]
     },
     "execution_count": 20,
     "metadata": {},
     "output_type": "execute_result"
    }
   ],
   "source": [
    "final_data=pd.concat([num_features,categorical_features,dummies_df],axis=1)\n",
    "final_data.shape"
   ]
  },
  {
   "cell_type": "code",
   "execution_count": 21,
   "metadata": {},
   "outputs": [],
   "source": [
    "final_data[\"txkey\"] = txkey_series\n",
    "final_data[\"fraud_ind\"] = y_series"
   ]
  },
  {
   "cell_type": "code",
   "execution_count": 22,
   "metadata": {},
   "outputs": [],
   "source": [
    "train_df = final_data[:len(train_df)]"
   ]
  },
  {
   "cell_type": "code",
   "execution_count": 23,
   "metadata": {},
   "outputs": [],
   "source": [
    "test_df = final_data[len(train_df):]"
   ]
  },
  {
   "cell_type": "code",
   "execution_count": 24,
   "metadata": {},
   "outputs": [],
   "source": [
    "test_df = test_df.drop(\"fraud_ind\", axis=1)"
   ]
  },
  {
   "cell_type": "code",
   "execution_count": 25,
   "metadata": {},
   "outputs": [
    {
     "data": {
      "text/html": [
       "<div>\n",
       "<style scoped>\n",
       "    .dataframe tbody tr th:only-of-type {\n",
       "        vertical-align: middle;\n",
       "    }\n",
       "\n",
       "    .dataframe tbody tr th {\n",
       "        vertical-align: top;\n",
       "    }\n",
       "\n",
       "    .dataframe thead th {\n",
       "        text-align: right;\n",
       "    }\n",
       "</style>\n",
       "<table border=\"1\" class=\"dataframe\">\n",
       "  <thead>\n",
       "    <tr style=\"text-align: right;\">\n",
       "      <th></th>\n",
       "      <th>acqic</th>\n",
       "      <th>bacno</th>\n",
       "      <th>cano</th>\n",
       "      <th>conam</th>\n",
       "      <th>csmcu</th>\n",
       "      <th>iterm</th>\n",
       "      <th>locdt</th>\n",
       "      <th>loctm</th>\n",
       "      <th>mcc</th>\n",
       "      <th>mchno</th>\n",
       "      <th>...</th>\n",
       "      <th>hcefg_6</th>\n",
       "      <th>hcefg_7</th>\n",
       "      <th>hcefg_8</th>\n",
       "      <th>hcefg_9</th>\n",
       "      <th>stscd_0</th>\n",
       "      <th>stscd_1</th>\n",
       "      <th>stscd_2</th>\n",
       "      <th>stscd_3</th>\n",
       "      <th>stscd_4</th>\n",
       "      <th>txkey</th>\n",
       "    </tr>\n",
       "  </thead>\n",
       "  <tbody>\n",
       "    <tr>\n",
       "      <th>1521787</th>\n",
       "      <td>0.582079</td>\n",
       "      <td>1.71375</td>\n",
       "      <td>0.126895</td>\n",
       "      <td>-0.341794</td>\n",
       "      <td>-2.590131</td>\n",
       "      <td>-0.133894</td>\n",
       "      <td>1.278983</td>\n",
       "      <td>1.325983</td>\n",
       "      <td>2.028863</td>\n",
       "      <td>0.11248</td>\n",
       "      <td>...</td>\n",
       "      <td>0</td>\n",
       "      <td>0</td>\n",
       "      <td>0</td>\n",
       "      <td>0</td>\n",
       "      <td>1</td>\n",
       "      <td>0</td>\n",
       "      <td>0</td>\n",
       "      <td>0</td>\n",
       "      <td>0</td>\n",
       "      <td>592489</td>\n",
       "    </tr>\n",
       "    <tr>\n",
       "      <th>1521788</th>\n",
       "      <td>0.582079</td>\n",
       "      <td>1.71375</td>\n",
       "      <td>0.126895</td>\n",
       "      <td>-0.341794</td>\n",
       "      <td>-2.590131</td>\n",
       "      <td>-0.133894</td>\n",
       "      <td>1.278983</td>\n",
       "      <td>1.453738</td>\n",
       "      <td>2.028863</td>\n",
       "      <td>0.11248</td>\n",
       "      <td>...</td>\n",
       "      <td>0</td>\n",
       "      <td>0</td>\n",
       "      <td>0</td>\n",
       "      <td>0</td>\n",
       "      <td>1</td>\n",
       "      <td>0</td>\n",
       "      <td>0</td>\n",
       "      <td>0</td>\n",
       "      <td>0</td>\n",
       "      <td>592452</td>\n",
       "    </tr>\n",
       "    <tr>\n",
       "      <th>1521789</th>\n",
       "      <td>0.582079</td>\n",
       "      <td>1.71375</td>\n",
       "      <td>0.126895</td>\n",
       "      <td>-0.341794</td>\n",
       "      <td>-2.590131</td>\n",
       "      <td>-0.133894</td>\n",
       "      <td>1.220324</td>\n",
       "      <td>0.459202</td>\n",
       "      <td>2.028863</td>\n",
       "      <td>0.11248</td>\n",
       "      <td>...</td>\n",
       "      <td>0</td>\n",
       "      <td>0</td>\n",
       "      <td>0</td>\n",
       "      <td>0</td>\n",
       "      <td>1</td>\n",
       "      <td>0</td>\n",
       "      <td>0</td>\n",
       "      <td>0</td>\n",
       "      <td>0</td>\n",
       "      <td>590212</td>\n",
       "    </tr>\n",
       "    <tr>\n",
       "      <th>1521790</th>\n",
       "      <td>0.582079</td>\n",
       "      <td>1.71375</td>\n",
       "      <td>0.126895</td>\n",
       "      <td>-0.341794</td>\n",
       "      <td>-2.590131</td>\n",
       "      <td>-0.133894</td>\n",
       "      <td>1.220324</td>\n",
       "      <td>0.380797</td>\n",
       "      <td>2.028863</td>\n",
       "      <td>0.11248</td>\n",
       "      <td>...</td>\n",
       "      <td>0</td>\n",
       "      <td>0</td>\n",
       "      <td>0</td>\n",
       "      <td>0</td>\n",
       "      <td>1</td>\n",
       "      <td>0</td>\n",
       "      <td>0</td>\n",
       "      <td>0</td>\n",
       "      <td>0</td>\n",
       "      <td>590209</td>\n",
       "    </tr>\n",
       "    <tr>\n",
       "      <th>1521791</th>\n",
       "      <td>0.582079</td>\n",
       "      <td>1.71375</td>\n",
       "      <td>0.126895</td>\n",
       "      <td>-0.341794</td>\n",
       "      <td>-2.590131</td>\n",
       "      <td>-0.133894</td>\n",
       "      <td>1.278983</td>\n",
       "      <td>1.325658</td>\n",
       "      <td>2.028863</td>\n",
       "      <td>0.11248</td>\n",
       "      <td>...</td>\n",
       "      <td>0</td>\n",
       "      <td>0</td>\n",
       "      <td>0</td>\n",
       "      <td>0</td>\n",
       "      <td>1</td>\n",
       "      <td>0</td>\n",
       "      <td>0</td>\n",
       "      <td>0</td>\n",
       "      <td>0</td>\n",
       "      <td>592488</td>\n",
       "    </tr>\n",
       "  </tbody>\n",
       "</table>\n",
       "<p>5 rows × 52 columns</p>\n",
       "</div>"
      ],
      "text/plain": [
       "            acqic    bacno      cano     conam     csmcu     iterm     locdt  \\\n",
       "1521787  0.582079  1.71375  0.126895 -0.341794 -2.590131 -0.133894  1.278983   \n",
       "1521788  0.582079  1.71375  0.126895 -0.341794 -2.590131 -0.133894  1.278983   \n",
       "1521789  0.582079  1.71375  0.126895 -0.341794 -2.590131 -0.133894  1.220324   \n",
       "1521790  0.582079  1.71375  0.126895 -0.341794 -2.590131 -0.133894  1.220324   \n",
       "1521791  0.582079  1.71375  0.126895 -0.341794 -2.590131 -0.133894  1.278983   \n",
       "\n",
       "            loctm       mcc    mchno   ...    hcefg_6  hcefg_7  hcefg_8  \\\n",
       "1521787  1.325983  2.028863  0.11248   ...          0        0        0   \n",
       "1521788  1.453738  2.028863  0.11248   ...          0        0        0   \n",
       "1521789  0.459202  2.028863  0.11248   ...          0        0        0   \n",
       "1521790  0.380797  2.028863  0.11248   ...          0        0        0   \n",
       "1521791  1.325658  2.028863  0.11248   ...          0        0        0   \n",
       "\n",
       "         hcefg_9  stscd_0  stscd_1  stscd_2  stscd_3  stscd_4   txkey  \n",
       "1521787        0        1        0        0        0        0  592489  \n",
       "1521788        0        1        0        0        0        0  592452  \n",
       "1521789        0        1        0        0        0        0  590212  \n",
       "1521790        0        1        0        0        0        0  590209  \n",
       "1521791        0        1        0        0        0        0  592488  \n",
       "\n",
       "[5 rows x 52 columns]"
      ]
     },
     "execution_count": 25,
     "metadata": {},
     "output_type": "execute_result"
    }
   ],
   "source": [
    "test_df.head()"
   ]
  },
  {
   "cell_type": "code",
   "execution_count": 26,
   "metadata": {},
   "outputs": [
    {
     "data": {
      "text/html": [
       "<div>\n",
       "<style scoped>\n",
       "    .dataframe tbody tr th:only-of-type {\n",
       "        vertical-align: middle;\n",
       "    }\n",
       "\n",
       "    .dataframe tbody tr th {\n",
       "        vertical-align: top;\n",
       "    }\n",
       "\n",
       "    .dataframe thead th {\n",
       "        text-align: right;\n",
       "    }\n",
       "</style>\n",
       "<table border=\"1\" class=\"dataframe\">\n",
       "  <thead>\n",
       "    <tr style=\"text-align: right;\">\n",
       "      <th></th>\n",
       "      <th>acqic</th>\n",
       "      <th>bacno</th>\n",
       "      <th>cano</th>\n",
       "      <th>conam</th>\n",
       "      <th>csmcu</th>\n",
       "      <th>iterm</th>\n",
       "      <th>locdt</th>\n",
       "      <th>loctm</th>\n",
       "      <th>mcc</th>\n",
       "      <th>mchno</th>\n",
       "      <th>...</th>\n",
       "      <th>hcefg_7</th>\n",
       "      <th>hcefg_8</th>\n",
       "      <th>hcefg_9</th>\n",
       "      <th>stscd_0</th>\n",
       "      <th>stscd_1</th>\n",
       "      <th>stscd_2</th>\n",
       "      <th>stscd_3</th>\n",
       "      <th>stscd_4</th>\n",
       "      <th>txkey</th>\n",
       "      <th>fraud_ind</th>\n",
       "    </tr>\n",
       "  </thead>\n",
       "  <tbody>\n",
       "    <tr>\n",
       "      <th>0</th>\n",
       "      <td>0.582079</td>\n",
       "      <td>0.658734</td>\n",
       "      <td>-1.162081</td>\n",
       "      <td>-0.341794</td>\n",
       "      <td>-2.590131</td>\n",
       "      <td>-0.133894</td>\n",
       "      <td>-0.744762</td>\n",
       "      <td>0.509681</td>\n",
       "      <td>2.028863</td>\n",
       "      <td>0.111604</td>\n",
       "      <td>...</td>\n",
       "      <td>0</td>\n",
       "      <td>0</td>\n",
       "      <td>0</td>\n",
       "      <td>1</td>\n",
       "      <td>0</td>\n",
       "      <td>0</td>\n",
       "      <td>0</td>\n",
       "      <td>0</td>\n",
       "      <td>516056</td>\n",
       "      <td>0.0</td>\n",
       "    </tr>\n",
       "    <tr>\n",
       "      <th>1</th>\n",
       "      <td>-3.987783</td>\n",
       "      <td>1.107708</td>\n",
       "      <td>-1.036278</td>\n",
       "      <td>-0.461282</td>\n",
       "      <td>-2.590131</td>\n",
       "      <td>-0.133894</td>\n",
       "      <td>-1.448673</td>\n",
       "      <td>-0.782179</td>\n",
       "      <td>1.952344</td>\n",
       "      <td>-1.812952</td>\n",
       "      <td>...</td>\n",
       "      <td>0</td>\n",
       "      <td>0</td>\n",
       "      <td>0</td>\n",
       "      <td>1</td>\n",
       "      <td>0</td>\n",
       "      <td>0</td>\n",
       "      <td>0</td>\n",
       "      <td>0</td>\n",
       "      <td>4376</td>\n",
       "      <td>0.0</td>\n",
       "    </tr>\n",
       "    <tr>\n",
       "      <th>2</th>\n",
       "      <td>0.582079</td>\n",
       "      <td>-1.409013</td>\n",
       "      <td>1.297514</td>\n",
       "      <td>-0.341794</td>\n",
       "      <td>-2.590131</td>\n",
       "      <td>-0.133894</td>\n",
       "      <td>-1.536662</td>\n",
       "      <td>0.123412</td>\n",
       "      <td>2.028863</td>\n",
       "      <td>0.111604</td>\n",
       "      <td>...</td>\n",
       "      <td>0</td>\n",
       "      <td>0</td>\n",
       "      <td>0</td>\n",
       "      <td>1</td>\n",
       "      <td>0</td>\n",
       "      <td>0</td>\n",
       "      <td>0</td>\n",
       "      <td>0</td>\n",
       "      <td>483434</td>\n",
       "      <td>0.0</td>\n",
       "    </tr>\n",
       "    <tr>\n",
       "      <th>3</th>\n",
       "      <td>0.472498</td>\n",
       "      <td>1.586350</td>\n",
       "      <td>-1.294169</td>\n",
       "      <td>0.903959</td>\n",
       "      <td>0.395402</td>\n",
       "      <td>-0.133894</td>\n",
       "      <td>-1.565992</td>\n",
       "      <td>0.515305</td>\n",
       "      <td>-0.649316</td>\n",
       "      <td>-0.176983</td>\n",
       "      <td>...</td>\n",
       "      <td>0</td>\n",
       "      <td>0</td>\n",
       "      <td>0</td>\n",
       "      <td>1</td>\n",
       "      <td>0</td>\n",
       "      <td>0</td>\n",
       "      <td>0</td>\n",
       "      <td>0</td>\n",
       "      <td>1407164</td>\n",
       "      <td>0.0</td>\n",
       "    </tr>\n",
       "    <tr>\n",
       "      <th>4</th>\n",
       "      <td>-0.019621</td>\n",
       "      <td>0.504984</td>\n",
       "      <td>-0.453988</td>\n",
       "      <td>0.153869</td>\n",
       "      <td>0.395402</td>\n",
       "      <td>-0.133894</td>\n",
       "      <td>-1.536662</td>\n",
       "      <td>0.690956</td>\n",
       "      <td>-0.445264</td>\n",
       "      <td>1.228783</td>\n",
       "      <td>...</td>\n",
       "      <td>0</td>\n",
       "      <td>0</td>\n",
       "      <td>0</td>\n",
       "      <td>1</td>\n",
       "      <td>0</td>\n",
       "      <td>0</td>\n",
       "      <td>0</td>\n",
       "      <td>0</td>\n",
       "      <td>1051004</td>\n",
       "      <td>0.0</td>\n",
       "    </tr>\n",
       "  </tbody>\n",
       "</table>\n",
       "<p>5 rows × 53 columns</p>\n",
       "</div>"
      ],
      "text/plain": [
       "      acqic     bacno      cano     conam     csmcu     iterm     locdt  \\\n",
       "0  0.582079  0.658734 -1.162081 -0.341794 -2.590131 -0.133894 -0.744762   \n",
       "1 -3.987783  1.107708 -1.036278 -0.461282 -2.590131 -0.133894 -1.448673   \n",
       "2  0.582079 -1.409013  1.297514 -0.341794 -2.590131 -0.133894 -1.536662   \n",
       "3  0.472498  1.586350 -1.294169  0.903959  0.395402 -0.133894 -1.565992   \n",
       "4 -0.019621  0.504984 -0.453988  0.153869  0.395402 -0.133894 -1.536662   \n",
       "\n",
       "      loctm       mcc     mchno    ...      hcefg_7  hcefg_8  hcefg_9  \\\n",
       "0  0.509681  2.028863  0.111604    ...            0        0        0   \n",
       "1 -0.782179  1.952344 -1.812952    ...            0        0        0   \n",
       "2  0.123412  2.028863  0.111604    ...            0        0        0   \n",
       "3  0.515305 -0.649316 -0.176983    ...            0        0        0   \n",
       "4  0.690956 -0.445264  1.228783    ...            0        0        0   \n",
       "\n",
       "   stscd_0  stscd_1  stscd_2  stscd_3  stscd_4    txkey  fraud_ind  \n",
       "0        1        0        0        0        0   516056        0.0  \n",
       "1        1        0        0        0        0     4376        0.0  \n",
       "2        1        0        0        0        0   483434        0.0  \n",
       "3        1        0        0        0        0  1407164        0.0  \n",
       "4        1        0        0        0        0  1051004        0.0  \n",
       "\n",
       "[5 rows x 53 columns]"
      ]
     },
     "execution_count": 26,
     "metadata": {},
     "output_type": "execute_result"
    }
   ],
   "source": [
    "train_df.head()"
   ]
  },
  {
   "cell_type": "code",
   "execution_count": 27,
   "metadata": {},
   "outputs": [
    {
     "data": {
      "text/plain": [
       "0.013557057529078907"
      ]
     },
     "execution_count": 27,
     "metadata": {},
     "output_type": "execute_result"
    }
   ],
   "source": [
    "train_df[train_df[\"fraud_ind\"] == 1].shape[0]/train_df[train_df[\"fraud_ind\"] == 0].shape[0]"
   ]
  },
  {
   "cell_type": "code",
   "execution_count": 28,
   "metadata": {},
   "outputs": [
    {
     "data": {
      "text/plain": [
       "1501432"
      ]
     },
     "execution_count": 28,
     "metadata": {},
     "output_type": "execute_result"
    }
   ],
   "source": [
    "train_df[train_df[\"fraud_ind\"] == 0].shape[0]"
   ]
  },
  {
   "cell_type": "code",
   "execution_count": 29,
   "metadata": {},
   "outputs": [],
   "source": [
    "# random forest\n",
    "X = train_df.drop(labels=['fraud_ind','txkey'],axis=1)"
   ]
  },
  {
   "cell_type": "code",
   "execution_count": null,
   "metadata": {},
   "outputs": [],
   "source": []
  },
  {
   "cell_type": "code",
   "execution_count": 30,
   "metadata": {},
   "outputs": [],
   "source": [
    "# X.head()\n",
    "y = train_df['fraud_ind']"
   ]
  },
  {
   "cell_type": "code",
   "execution_count": 31,
   "metadata": {},
   "outputs": [],
   "source": [
    "from sklearn.ensemble import RandomForestClassifier\n",
    "from sklearn.model_selection import cross_val_score\n",
    "from sklearn.model_selection import train_test_split\n",
    "from sklearn import svm\n",
    "from sklearn.preprocessing import StandardScaler\n",
    "from sklearn.preprocessing import MinMaxScaler\n",
    "from xgboost import XGBClassifier\n",
    "from sklearn.model_selection import RandomizedSearchCV,GridSearchCV\n",
    "from sklearn.linear_model import LogisticRegression\n",
    "\n",
    "from sklearn.metrics import accuracy_score\n",
    "from sklearn.ensemble import VotingClassifier"
   ]
  },
  {
   "cell_type": "markdown",
   "metadata": {},
   "source": [
    "# split the dataset "
   ]
  },
  {
   "cell_type": "code",
   "execution_count": 32,
   "metadata": {},
   "outputs": [],
   "source": [
    "X_train, X_test, y_train, y_test = train_test_split(X, y, test_size=0.1)"
   ]
  },
  {
   "cell_type": "markdown",
   "metadata": {},
   "source": [
    "## Random forest"
   ]
  },
  {
   "cell_type": "code",
   "execution_count": 33,
   "metadata": {},
   "outputs": [],
   "source": [
    "# t1 = datetime.datetime.now()"
   ]
  },
  {
   "cell_type": "code",
   "execution_count": 34,
   "metadata": {},
   "outputs": [
    {
     "name": "stdout",
     "output_type": "stream",
     "text": [
      "0.9923\n"
     ]
    }
   ],
   "source": [
    "rf = RandomForestClassifier(criterion='gini', \n",
    "                             n_estimators=10,\n",
    "                             min_samples_split=15,\n",
    "                             min_samples_leaf=1,\n",
    "                             oob_score=True,\n",
    "                             random_state=82041,\n",
    "                             n_jobs=-1) \n",
    "\n",
    "rf.fit(X_train[:len(X_train)], y_train[:len(y_train)])\n",
    "print(\"%.4f\" % rf.oob_score_)"
   ]
  },
  {
   "cell_type": "code",
   "execution_count": 35,
   "metadata": {},
   "outputs": [],
   "source": [
    "# t2 = datetime.datetime.now()\n",
    "# print((t2-t1).seconds)"
   ]
  },
  {
   "cell_type": "code",
   "execution_count": 36,
   "metadata": {},
   "outputs": [],
   "source": [
    "y_pred = rf.predict(X_test)"
   ]
  },
  {
   "cell_type": "code",
   "execution_count": 37,
   "metadata": {},
   "outputs": [
    {
     "data": {
      "text/plain": [
       "array([[150019,    179],\n",
       "       [   842,   1139]])"
      ]
     },
     "execution_count": 37,
     "metadata": {},
     "output_type": "execute_result"
    }
   ],
   "source": [
    "from sklearn.metrics import confusion_matrix\n",
    "\n",
    "conf_mat = confusion_matrix(y_test, y_pred)\n",
    "conf_mat"
   ]
  },
  {
   "cell_type": "code",
   "execution_count": 38,
   "metadata": {},
   "outputs": [],
   "source": [
    "def get_f1_score(confusion_matrix, i):\n",
    "    TP = 0\n",
    "    FP = 0\n",
    "    TN = 0\n",
    "    FN = 0\n",
    "    \n",
    "    for j in range(len(confusion_matrix)):\n",
    "        if (i == j):\n",
    "            # true positive: 真實為i，預測為i (confusion matrix 中的對角線項目)\n",
    "            TP += confusion_matrix[i, j]\n",
    "            tmp = np.delete(confusion_matrix, i, 0)\n",
    "            tmp = np.delete(tmp, j, 1)\n",
    "            # true negative: 真實不為i, 預測不為i (confusion matrix 中, row=col=i 以外的項目總合)\n",
    "            TN += np.sum(tmp)\n",
    "        else:\n",
    "            if (confusion_matrix[i, j] != 0):\n",
    "                # false negative: 真實為i, 預測不為i (confusion matrix中, row i 上不為0的總數)\n",
    "                FN += confusion_matrix[i, j]\n",
    "            if (confusion_matrix[j, i] != 0):\n",
    "                # false positive: 真實不為i, 預測為i (confusion matrix中, col i 上不為0的總數)\n",
    "                FP += confusion_matrix[j, i]\n",
    "\n",
    "    recall = TP / (FN + TP)\n",
    "    precision = TP / (TP + FP)\n",
    "    f1_score = 2 * 1/(1/recall + 1/precision)\n",
    "    \n",
    "    return f1_score"
   ]
  },
  {
   "cell_type": "code",
   "execution_count": 39,
   "metadata": {},
   "outputs": [
    {
     "data": {
      "text/plain": [
       "0.6905122764474083"
      ]
     },
     "execution_count": 39,
     "metadata": {},
     "output_type": "execute_result"
    }
   ],
   "source": [
    "get_f1_score(conf_mat,1)"
   ]
  },
  {
   "cell_type": "code",
   "execution_count": 40,
   "metadata": {},
   "outputs": [
    {
     "data": {
      "text/plain": [
       "0.008660853337188442"
      ]
     },
     "execution_count": 40,
     "metadata": {},
     "output_type": "execute_result"
    }
   ],
   "source": [
    "y_pred.sum()/len(y_pred)"
   ]
  },
  {
   "cell_type": "markdown",
   "metadata": {},
   "source": [
    "## Xgboost"
   ]
  },
  {
   "cell_type": "code",
   "execution_count": 41,
   "metadata": {},
   "outputs": [],
   "source": [
    "t1 = datetime.datetime.now()"
   ]
  },
  {
   "cell_type": "code",
   "execution_count": 42,
   "metadata": {},
   "outputs": [
    {
     "data": {
      "text/plain": [
       "RandomizedSearchCV(cv=3, error_score='raise',\n",
       "          estimator=XGBClassifier(base_score=0.5, booster='gbtree', colsample_bylevel=1,\n",
       "       colsample_bytree=1, gamma=0, learning_rate=0.1, max_delta_step=0,\n",
       "       max_depth=3, min_child_weight=1, missing=None, n_estimators=100,\n",
       "       n_jobs=1, nthread=None, objective='binary:logistic', random_state=0,\n",
       "       reg_alpha=0, reg_lambda=1, scale_pos_weight=1, seed=None,\n",
       "       silent=True, subsample=1),\n",
       "          fit_params=None, iid=True, n_iter=10, n_jobs=1,\n",
       "          param_distributions={'n_estimators': [10], 'learning_rate': [0.1, 0.05], 'max_depth': [12], 'gamma': [0, 0.1], 'scale_pos_weight': [1, 2, 5]},\n",
       "          pre_dispatch='2*n_jobs', random_state=None, refit=True,\n",
       "          return_train_score='cv_results_', scoring='accuracy', verbose=0)"
      ]
     },
     "execution_count": 42,
     "metadata": {},
     "output_type": "execute_result"
    }
   ],
   "source": [
    "warnings.filterwarnings('ignore')\n",
    "parameters= {'n_estimators':[10], 'learning_rate':[0.1,0.05], 'max_depth':[12],\\\n",
    "             \"gamma\":[0, 0.1], \"scale_pos_weight\": [1, 2, 5]}\n",
    "#             \"gamma\":[0.01], \"lambda\": [0.01], \"scale_pos_weight\": [5, 10]}\n",
    "xgb_model = XGBClassifier()\n",
    "xgb_model.fit(X_train[:len(X_train)], y_train[:len(y_train)])\n",
    "xgb_best_model = RandomizedSearchCV(xgb_model, parameters, cv=3, scoring='accuracy', return_train_score='cv_results_')\n",
    "xgb_best_model.fit(X_train[:len(X_train)//10], y_train[:len(y_train)//10])"
   ]
  },
  {
   "cell_type": "code",
   "execution_count": null,
   "metadata": {},
   "outputs": [],
   "source": [
    "from xgboost import plot_importance\n",
    "plot_importance(xgb_model)\n",
    "plt.figure(figsize(20.10))\n",
    "plt.show()"
   ]
  },
  {
   "cell_type": "code",
   "execution_count": 44,
   "metadata": {},
   "outputs": [
    {
     "name": "stdout",
     "output_type": "stream",
     "text": [
      "4.916666666666667\n"
     ]
    }
   ],
   "source": [
    "t2 = datetime.datetime.now()\n",
    "print((t2-t1).seconds/60)"
   ]
  },
  {
   "cell_type": "code",
   "execution_count": 45,
   "metadata": {},
   "outputs": [],
   "source": [
    "y_pred = xgb_best_model.predict(X_test)"
   ]
  },
  {
   "cell_type": "code",
   "execution_count": 46,
   "metadata": {},
   "outputs": [
    {
     "data": {
      "text/plain": [
       "array([[149875,    323],\n",
       "       [  1176,    805]])"
      ]
     },
     "execution_count": 46,
     "metadata": {},
     "output_type": "execute_result"
    }
   ],
   "source": [
    "conf_mat = confusion_matrix(y_test, y_pred)\n",
    "conf_mat"
   ]
  },
  {
   "cell_type": "code",
   "execution_count": 47,
   "metadata": {},
   "outputs": [
    {
     "data": {
      "text/plain": [
       "0.5178513991637183"
      ]
     },
     "execution_count": 47,
     "metadata": {},
     "output_type": "execute_result"
    }
   ],
   "source": [
    "get_f1_score(conf_mat,1)"
   ]
  },
  {
   "cell_type": "code",
   "execution_count": 48,
   "metadata": {},
   "outputs": [
    {
     "name": "stdout",
     "output_type": "stream",
     "text": [
      "296\n"
     ]
    }
   ],
   "source": [
    "t2 = datetime.datetime.now()\n",
    "print((t2-t1).seconds)\n"
   ]
  },
  {
   "cell_type": "markdown",
   "metadata": {},
   "source": [
    "## Logistic regression"
   ]
  },
  {
   "cell_type": "code",
   "execution_count": 49,
   "metadata": {},
   "outputs": [],
   "source": [
    "# parameters = {'penalty': ['l2'], 'max_iter': [100, 150,200],\n",
    "#                      'C': [1, 10, 100, 1000]}\n",
    "\n",
    "# logistic_model = LogisticRegression()\n",
    "# #logistic_model.fit(scale_all['StandardScaler']['x_train'], Y_train)\n",
    "# logistic_best_model = RandomizedSearchCV(logistic_model, parameters, cv=5, scoring='accuracy', return_train_score='cv_results_')\n",
    "# logistic_best_model.fit(X_train, y_train)\n",
    "\n",
    "# logistic_best_model.best_estimator_"
   ]
  },
  {
   "cell_type": "code",
   "execution_count": 50,
   "metadata": {},
   "outputs": [],
   "source": [
    "# logistic_best_model.score(X_test, y_test)"
   ]
  },
  {
   "cell_type": "markdown",
   "metadata": {},
   "source": [
    "## ensemble by voting"
   ]
  },
  {
   "cell_type": "code",
   "execution_count": 51,
   "metadata": {},
   "outputs": [],
   "source": [
    "# vclf = VotingClassifier(estimators=[('svc', svc_best_model), ('rf', rf), ('xgb', xgb_best_model), ('lg', logistic_best_model)])"
   ]
  },
  {
   "cell_type": "code",
   "execution_count": 52,
   "metadata": {},
   "outputs": [],
   "source": [
    "# vclf.fit(X_train, y_train)"
   ]
  },
  {
   "cell_type": "code",
   "execution_count": 53,
   "metadata": {},
   "outputs": [],
   "source": [
    "# vclf.score(X_test, y_test)"
   ]
  },
  {
   "cell_type": "code",
   "execution_count": null,
   "metadata": {},
   "outputs": [],
   "source": []
  },
  {
   "cell_type": "code",
   "execution_count": null,
   "metadata": {},
   "outputs": [],
   "source": []
  },
  {
   "cell_type": "code",
   "execution_count": null,
   "metadata": {},
   "outputs": [],
   "source": []
  },
  {
   "cell_type": "code",
   "execution_count": 54,
   "metadata": {},
   "outputs": [],
   "source": [
    "x_submit = test_df.drop(labels=['txkey'],axis=1)\n",
    "pred = rf.predict(x_submit)"
   ]
  },
  {
   "cell_type": "code",
   "execution_count": 55,
   "metadata": {},
   "outputs": [],
   "source": [
    "submit = pd.DataFrame({\"txkey\": test_df['txkey'],\n",
    "                      \"fraud_ind\":pred.astype(int)})"
   ]
  },
  {
   "cell_type": "code",
   "execution_count": 56,
   "metadata": {},
   "outputs": [],
   "source": [
    "submit.to_csv('submission03.csv', index=False)"
   ]
  },
  {
   "cell_type": "code",
   "execution_count": 57,
   "metadata": {},
   "outputs": [
    {
     "data": {
      "text/plain": [
       "0.00692967165878126"
      ]
     },
     "execution_count": 57,
     "metadata": {},
     "output_type": "execute_result"
    }
   ],
   "source": [
    "submit[\"fraud_ind\"].sum()/submit[\"fraud_ind\"].shape[0]"
   ]
  },
  {
   "cell_type": "code",
   "execution_count": null,
   "metadata": {},
   "outputs": [],
   "source": []
  }
 ],
 "metadata": {
  "kernelspec": {
   "display_name": "Python 3",
   "language": "python",
   "name": "python3"
  },
  "language_info": {
   "codemirror_mode": {
    "name": "ipython",
    "version": 3
   },
   "file_extension": ".py",
   "mimetype": "text/x-python",
   "name": "python",
   "nbconvert_exporter": "python",
   "pygments_lexer": "ipython3",
   "version": "3.6.6"
  }
 },
 "nbformat": 4,
 "nbformat_minor": 2
}
