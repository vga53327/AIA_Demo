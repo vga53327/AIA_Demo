{
 "cells": [
  {
   "cell_type": "markdown",
   "metadata": {},
   "source": [
    "# function\n",
    "輕鬆地重複使用寫好的程式碼\n",
    "\n",
    "```Python\n",
    "def function_name(parameter):\n",
    "    statement(s)\n",
    "```\n",
    "- 函式以def作為開頭\n",
    "- 函式要取名字\n",
    "- 函式要加冒號\n",
    "- 函式可以不用給參數\n",
    "- 函式可以不用寫回傳值\n"
   ]
  },
  {
   "cell_type": "code",
   "execution_count": 4,
   "metadata": {},
   "outputs": [
    {
     "name": "stdout",
     "output_type": "stream",
     "text": [
      "Hello!\n"
     ]
    }
   ],
   "source": [
    "# 函數沒參數\n",
    "def greet():\n",
    "    print(\"Hello!\")\n",
    "    \n",
    "greet()"
   ]
  },
  {
   "cell_type": "code",
   "execution_count": 5,
   "metadata": {},
   "outputs": [
    {
     "name": "stdout",
     "output_type": "stream",
     "text": [
      "Hello Felix, nice to meet you.\n"
     ]
    }
   ],
   "source": [
    "# 函數有參數\n",
    "def greet(name):\n",
    "    print(\"Hello\",name+\", nice to meet you.\")\n",
    "    \n",
    "greet(\"Felix\")"
   ]
  },
  {
   "cell_type": "code",
   "execution_count": 6,
   "metadata": {},
   "outputs": [
    {
     "name": "stdout",
     "output_type": "stream",
     "text": [
      "Hello AT082001, nice to meet you.\n",
      "Hello AT082002, nice to meet you.\n",
      "Hello AT082003, nice to meet you.\n"
     ]
    }
   ],
   "source": [
    "greet(\"AT082001\")\n",
    "greet(\"AT082002\")\n",
    "greet(\"AT082003\")"
   ]
  },
  {
   "cell_type": "code",
   "execution_count": 9,
   "metadata": {},
   "outputs": [
    {
     "name": "stdout",
     "output_type": "stream",
     "text": [
      "30\n"
     ]
    }
   ],
   "source": [
    "# 回傳值\n",
    "\n",
    "def add_two_numbers(arg1, arg2):\n",
    "    my_sum = arg1 + arg2\n",
    "    return my_sum;\n",
    "\n",
    "result = add_two_numbers(10, 20)\n",
    "print(result)"
   ]
  },
  {
   "cell_type": "code",
   "execution_count": 12,
   "metadata": {},
   "outputs": [
    {
     "name": "stdout",
     "output_type": "stream",
     "text": [
      "(4, 9)\n",
      "4\n",
      "9\n"
     ]
    }
   ],
   "source": [
    "# 回傳多個數值\n",
    "def square(x, y):\n",
    "    return x*x, y*y\n",
    "result = square(2, 3)\n",
    "print(result)\n",
    "\n",
    "res_x, res_y = square(2, 3)\n",
    "print(res_x)\n",
    "print(res_y)"
   ]
  },
  {
   "cell_type": "markdown",
   "metadata": {},
   "source": [
    "## lambda 函數\n",
    "快速定義簡單函數的方法"
   ]
  },
  {
   "cell_type": "code",
   "execution_count": 13,
   "metadata": {},
   "outputs": [
    {
     "name": "stdout",
     "output_type": "stream",
     "text": [
      "10\n"
     ]
    }
   ],
   "source": [
    "double = lambda x: x * 2\n",
    "print(double(5))"
   ]
  },
  {
   "cell_type": "code",
   "execution_count": 1,
   "metadata": {},
   "outputs": [
    {
     "name": "stdout",
     "output_type": "stream",
     "text": [
      "10\n"
     ]
    }
   ],
   "source": [
    "def double(x):\n",
    "    return x * 2\n",
    "print(double(5))"
   ]
  },
  {
   "cell_type": "code",
   "execution_count": 3,
   "metadata": {},
   "outputs": [
    {
     "name": "stdout",
     "output_type": "stream",
     "text": [
      "12\n"
     ]
    }
   ],
   "source": [
    "#多參數\n",
    "double = lambda x, y : x * 2 + y\n",
    "print(double(5,2))"
   ]
  },
  {
   "cell_type": "code",
   "execution_count": 5,
   "metadata": {},
   "outputs": [
    {
     "name": "stdout",
     "output_type": "stream",
     "text": [
      "12\n"
     ]
    }
   ],
   "source": [
    "def double(x, y):\n",
    "    return x * 2 + y\n",
    "print(double(5,2))"
   ]
  },
  {
   "cell_type": "code",
   "execution_count": 7,
   "metadata": {},
   "outputs": [
    {
     "name": "stdout",
     "output_type": "stream",
     "text": [
      "global_variable\n"
     ]
    }
   ],
   "source": [
    "# Global\n",
    "x = \"global\"\n",
    "def foo():\n",
    "    y = x + \"_variable\"\n",
    "    print(y)\n",
    "foo()"
   ]
  },
  {
   "cell_type": "code",
   "execution_count": 9,
   "metadata": {},
   "outputs": [
    {
     "ename": "NameError",
     "evalue": "name 'z' is not defined",
     "output_type": "error",
     "traceback": [
      "\u001b[0;31m---------------------------------------------------------------------------\u001b[0m",
      "\u001b[0;31mNameError\u001b[0m                                 Traceback (most recent call last)",
      "\u001b[0;32m<ipython-input-9-547a1f04a3eb>\u001b[0m in \u001b[0;36m<module>\u001b[0;34m()\u001b[0m\n\u001b[1;32m      3\u001b[0m \u001b[0;32mdef\u001b[0m \u001b[0mfoo\u001b[0m\u001b[0;34m(\u001b[0m\u001b[0;34m)\u001b[0m\u001b[0;34m:\u001b[0m\u001b[0;34m\u001b[0m\u001b[0m\n\u001b[1;32m      4\u001b[0m     \u001b[0mz\u001b[0m \u001b[0;34m=\u001b[0m \u001b[0;34m\"local\"\u001b[0m\u001b[0;34m\u001b[0m\u001b[0m\n\u001b[0;32m----> 5\u001b[0;31m \u001b[0mprint\u001b[0m\u001b[0;34m(\u001b[0m\u001b[0mz\u001b[0m\u001b[0;34m)\u001b[0m\u001b[0;34m\u001b[0m\u001b[0m\n\u001b[0m",
      "\u001b[0;31mNameError\u001b[0m: name 'z' is not defined"
     ]
    }
   ],
   "source": [
    "# local\n",
    "# z變數只存在foo這個函式裡面，所以函式外面使用會出現NameError\n",
    "def foo():\n",
    "    z = \"local\"\n",
    "print(z)"
   ]
  },
  {
   "cell_type": "markdown",
   "metadata": {},
   "source": [
    "# Generators\n",
    "用於可迭代的物件一次不想要讀取太多的時候"
   ]
  },
  {
   "cell_type": "code",
   "execution_count": 8,
   "metadata": {},
   "outputs": [],
   "source": [
    "def generator_example():\n",
    "    a = 1\n",
    "    yield print(a) \n",
    "    # generator 用 yield 產生回傳值，用在需要一個一個回傳資料的時候使用，而他會保留當前狀態\n",
    "    a += 1\n",
    "    yield print(a)\n",
    "    return"
   ]
  },
  {
   "cell_type": "code",
   "execution_count": 9,
   "metadata": {},
   "outputs": [
    {
     "name": "stdout",
     "output_type": "stream",
     "text": [
      "1\n",
      "2\n"
     ]
    }
   ],
   "source": [
    "for i in generator_example():\n",
    "    continue"
   ]
  },
  {
   "cell_type": "code",
   "execution_count": 10,
   "metadata": {},
   "outputs": [
    {
     "name": "stdout",
     "output_type": "stream",
     "text": [
      "1\n",
      "2\n"
     ]
    },
    {
     "ename": "StopIteration",
     "evalue": "",
     "output_type": "error",
     "traceback": [
      "\u001b[0;31m---------------------------------------------------------------------------\u001b[0m",
      "\u001b[0;31mStopIteration\u001b[0m                             Traceback (most recent call last)",
      "\u001b[0;32m<ipython-input-10-1a1d807718bc>\u001b[0m in \u001b[0;36m<module>\u001b[0;34m()\u001b[0m\n\u001b[1;32m      3\u001b[0m \u001b[0mgen\u001b[0m\u001b[0;34m.\u001b[0m\u001b[0m__next__\u001b[0m\u001b[0;34m(\u001b[0m\u001b[0;34m)\u001b[0m\u001b[0;34m\u001b[0m\u001b[0m\n\u001b[1;32m      4\u001b[0m \u001b[0mgen\u001b[0m\u001b[0;34m.\u001b[0m\u001b[0m__next__\u001b[0m\u001b[0;34m(\u001b[0m\u001b[0;34m)\u001b[0m\u001b[0;34m\u001b[0m\u001b[0m\n\u001b[0;32m----> 5\u001b[0;31m \u001b[0mgen\u001b[0m\u001b[0;34m.\u001b[0m\u001b[0m__next__\u001b[0m\u001b[0;34m(\u001b[0m\u001b[0;34m)\u001b[0m\u001b[0;34m\u001b[0m\u001b[0m\n\u001b[0m",
      "\u001b[0;31mStopIteration\u001b[0m: "
     ]
    }
   ],
   "source": [
    "# 讀到最後會出現 StopIteration\n",
    "gen = generator_example()\n",
    "gen.__next__()\n",
    "gen.__next__()\n",
    "gen.__next__()"
   ]
  },
  {
   "cell_type": "code",
   "execution_count": 23,
   "metadata": {},
   "outputs": [],
   "source": [
    "gen = generator_example()"
   ]
  },
  {
   "cell_type": "code",
   "execution_count": 11,
   "metadata": {},
   "outputs": [],
   "source": [
    "# 可以用例外排除防止出錯\n",
    "try:\n",
    "    gen.__next__()\n",
    "except StopIteration:\n",
    "    pass"
   ]
  },
  {
   "cell_type": "code",
   "execution_count": 33,
   "metadata": {},
   "outputs": [],
   "source": [
    "# Benefits - Memory Usage\n",
    "range_num = 10\n",
    "for i in [x*x for x in range(range_num)]:\n",
    "    pass"
   ]
  },
  {
   "cell_type": "code",
   "execution_count": 32,
   "metadata": {},
   "outputs": [],
   "source": [
    "for i in (x*x for x in range(range_num)):\n",
    "    pass"
   ]
  },
  {
   "cell_type": "code",
   "execution_count": 1,
   "metadata": {},
   "outputs": [
    {
     "name": "stdout",
     "output_type": "stream",
     "text": [
      "before: 7168217088\n",
      "after: 7168339968\n",
      "Generator記憶體使用量: 122880\n"
     ]
    }
   ],
   "source": [
    "import psutil\n",
    "before_used = psutil.virtual_memory().used\n",
    "after_used = 0\n",
    "print(\"before:\", before_used)\n",
    "\n",
    "range_num = 1000000\n",
    "for i in (x*x for x in range(range_num)):\n",
    "    if i == (range_num - 1) * (range_num - 1):\n",
    "        after_used = psutil.virtual_memory().used\n",
    "        print(\"after:\", after_used)\n",
    "print(\"Generator記憶體使用量:\",after_used - before_used)"
   ]
  },
  {
   "cell_type": "code",
   "execution_count": 2,
   "metadata": {},
   "outputs": [
    {
     "name": "stdout",
     "output_type": "stream",
     "text": [
      "before: 7171354624\n",
      "after: 7212130304\n",
      "list記憶體使用量: 40775680\n"
     ]
    }
   ],
   "source": [
    "import psutil\n",
    "before_used = psutil.virtual_memory().used\n",
    "after_used = 0\n",
    "print(\"before:\", before_used)\n",
    "\n",
    "range_num = 1000000\n",
    "for i in [x*x for x in range(range_num)]:\n",
    "    if i == (range_num - 1) * (range_num - 1):\n",
    "        after_used = psutil.virtual_memory().used\n",
    "        print(\"after:\", after_used)\n",
    "print(\"list記憶體使用量:\", after_used - before_used)"
   ]
  },
  {
   "cell_type": "markdown",
   "metadata": {},
   "source": [
    "# Module"
   ]
  },
  {
   "cell_type": "code",
   "execution_count": 5,
   "metadata": {},
   "outputs": [],
   "source": [
    "# 載入模組的方法\n",
    "import re\n",
    "import re as r\n",
    "from re import findall\n",
    "from re import *"
   ]
  },
  {
   "cell_type": "markdown",
   "metadata": {},
   "source": [
    "### Module - os"
   ]
  },
  {
   "cell_type": "code",
   "execution_count": 14,
   "metadata": {},
   "outputs": [
    {
     "name": "stdout",
     "output_type": "stream",
     "text": [
      "/home/jovyan/python/python_part2.ipynb\n",
      "path/result/a.csv\n",
      "path/result/a.csv\n",
      "True\n",
      "True\n"
     ]
    }
   ],
   "source": [
    "import os\n",
    "# 顯示絕對路徑\n",
    "print(os.path.abspath(\"./python_part2.ipynb\"))\n",
    "\n",
    "# 將多個字串組合成路徑\n",
    "print('/'.join([\"path\", \"result\", \"a.csv\"]))\n",
    "print(os.path.join(\"path\", \"result\", \"a.csv\"))\n",
    "\n",
    "# 檢查某路徑/資料是否存在\n",
    "print(os.path.exists(\"/home/jovyan/python/python_part2.ipynb\"))\n",
    "print(os.path.exists(\"python_part2.ipynb\"))\n",
    "\n"
   ]
  },
  {
   "cell_type": "markdown",
   "metadata": {},
   "source": [
    "### Module - Regular Expression\n",
    "- \\. 匹配所有的字元，除了換行\n",
    "- \\* 匹配重複字元\n",
    "- \\+ 一次或多次重複的前一個字元，必須要有出現\n",
    "- {m} 必須連續重複m次\n",
    "- {m,n} m到n次都能匹配成功\n",
    "- \\ 跳脫字元，例如 \\{\n",
    "- \\[ \\] \n",
    "    - [amk]\n",
    "    - [a-z]\n",
    "    - [0-5][0-9]"
   ]
  },
  {
   "cell_type": "code",
   "execution_count": 21,
   "metadata": {},
   "outputs": [
    {
     "name": "stdout",
     "output_type": "stream",
     "text": [
      "['is', 'is']\n",
      "['12', '111', '0123456789876543210']\n",
      "['can', 'man', 'fan']\n"
     ]
    }
   ],
   "source": [
    "import re\n",
    "\n",
    "string = \"This is demo string, do nothong!\"\n",
    "pattern = \"is\"\n",
    "print(re.findall(pattern, string))\n",
    "\n",
    "pattern2 = \"[0-9]+\"\n",
    "string2 = \"12 This is demo string,111 pipers 0123456789876543210.\"\n",
    "print(re.findall(pattern2, string2))\n",
    "\n",
    "pattern3 = \"[cmf]an\"\n",
    "string3 = \"find: can, man, fan, skip: dan, ran, pan\"\n",
    "print(re.findall(pattern3, string3))"
   ]
  },
  {
   "cell_type": "code",
   "execution_count": 32,
   "metadata": {},
   "outputs": [
    {
     "data": {
      "text/plain": [
       "['vga53327@gmail.com', 'sajdfhgvgdv@sjd']"
      ]
     },
     "execution_count": 32,
     "metadata": {},
     "output_type": "execute_result"
    }
   ],
   "source": [
    "email_text = '''asdjh@@vhsbhQQ / vga53327@gmail.com sajdfhgvgdv@sjdhvb'''\n",
    "re.findall(\"([A-Za-z0-9._]+@[A-Za-z.]+[com|edu])\", email_text)"
   ]
  },
  {
   "cell_type": "markdown",
   "metadata": {},
   "source": [
    "# class"
   ]
  },
  {
   "cell_type": "code",
   "execution_count": 1,
   "metadata": {},
   "outputs": [],
   "source": [
    "class MyClass:\n",
    "    var = 123\n",
    "    def method(self):\n",
    "        return \"hello world\""
   ]
  },
  {
   "cell_type": "code",
   "execution_count": 5,
   "metadata": {},
   "outputs": [
    {
     "name": "stdout",
     "output_type": "stream",
     "text": [
      "123\n",
      "hello world\n"
     ]
    }
   ],
   "source": [
    "my_object = MyClass()\n",
    "print(my_object.var)\n",
    "print(my_object.method())"
   ]
  },
  {
   "cell_type": "code",
   "execution_count": 6,
   "metadata": {},
   "outputs": [
    {
     "name": "stdout",
     "output_type": "stream",
     "text": [
      "do nothing\n"
     ]
    }
   ],
   "source": [
    "class MyClass:\n",
    "    def __init__(self):\n",
    "        print(\"do nothing\")\n",
    "my_object = MyClass()"
   ]
  },
  {
   "cell_type": "code",
   "execution_count": 7,
   "metadata": {},
   "outputs": [],
   "source": [
    "class MyClass:\n",
    "    def __init__(self, var1, var2):\n",
    "        self.var1 = var1\n",
    "        self.var2 = var2"
   ]
  },
  {
   "cell_type": "code",
   "execution_count": 8,
   "metadata": {},
   "outputs": [
    {
     "name": "stdout",
     "output_type": "stream",
     "text": [
      "123\n",
      "456\n"
     ]
    }
   ],
   "source": [
    "my_object = MyClass(123, 456)\n",
    "print(my_object.var1)\n",
    "print(my_object.var2)"
   ]
  },
  {
   "cell_type": "markdown",
   "metadata": {},
   "source": [
    "### Object"
   ]
  },
  {
   "cell_type": "code",
   "execution_count": 12,
   "metadata": {},
   "outputs": [
    {
     "name": "stdout",
     "output_type": "stream",
     "text": [
      "123\n",
      "456\n",
      "<__main__.MyClass object at 0x7fa3104ddd68>\n",
      "<__main__.MyClass object at 0x7fa3104ddcf8>\n"
     ]
    }
   ],
   "source": [
    "class MyClass:\n",
    "    def __init__(self, var1):\n",
    "        self.var1 = var1\n",
    "my_object_123 = MyClass(123)\n",
    "my_object_456 = MyClass(456)\n",
    "\n",
    "print(my_object_123.var1)\n",
    "print(my_object_456.var1)\n",
    "\n",
    "print(my_object_123)\n",
    "print(my_object_456) #不同的記憶體位置"
   ]
  },
  {
   "cell_type": "code",
   "execution_count": 1,
   "metadata": {},
   "outputs": [],
   "source": [
    "class Person:\n",
    "    bmi = 0.0\n",
    "    height = 0.0\n",
    "    weight = 0\n",
    "    def __init__(self):\n",
    "        pass\n",
    "    def ask_person_info(self):\n",
    "        self.height = float(input(\"height?:\"))\n",
    "        self.weight = int(input(\"weight?:\"))\n",
    "    def cal_BMI(self):\n",
    "        self.bmi = round((self.weight / (self.height ** 2)), 2)\n",
    "        print(\"Your BMI is \" + str(self.bmi))"
   ]
  },
  {
   "cell_type": "code",
   "execution_count": 5,
   "metadata": {},
   "outputs": [
    {
     "name": "stdin",
     "output_type": "stream",
     "text": [
      "height?: 1.73\n",
      "weight?: 54\n"
     ]
    }
   ],
   "source": [
    "person = Person()\n",
    "person.ask_person_info()"
   ]
  },
  {
   "cell_type": "markdown",
   "metadata": {},
   "source": [
    "person.cal_BMI()"
   ]
  },
  {
   "cell_type": "markdown",
   "metadata": {},
   "source": [
    "# Command Mode 快捷鍵\n",
    "- ## cell跳進跳出\n",
    "    - 按鍵esc  跳出cell\n",
    "    - 按鍵enter 進入cell\n",
    "\n",
    "- # cell外\n",
    "    - 按鍵x 剪下\n",
    "    - 按鍵c 複製\n",
    "    - 按鍵v 貼上\n",
    "    - 按鍵z 還原\n",
    "    - 加入空白cell\n",
    "        - 按鍵a 在上面加一個空的cell\n",
    "        - 按鍵b 在下面加一個空的cell\n",
    "    - 按鍵m markdown\n",
    "        - 方程式\n",
    "        - 表格\n",
    "        - 程式碼\n",
    "    - 按鍵y code\n",
    "\n",
    "- # cell內\n",
    "    - 執行 cell\n",
    "        - 按鍵shift+enter 執行完換下一行\n",
    "        - 按鍵tcontrol+enter 執行完不換行 \n",
    "    - 按鍵tab t可以幫你補完沒打完的文字，例如較長的變數名稱\n",
    "    - 按鍵shift+tab 跳出提示，按兩次會套出更多資訊\n",
    "    - 按鍵Ctrl+x 剪下\n",
    "    - 按鍵Ctrl+c 複製\n",
    "    - 按鍵Ctrl+v 貼上\n",
    "    - 按鍵Ctrl+z 還原\n",
    "    - 按鍵Ctrl+u 把選取也視為動作的還原\n",
    "    - 想知道更多可參考講義或網路\n",
    "        "
   ]
  },
  {
   "cell_type": "markdown",
   "metadata": {},
   "source": [
    "# jupyter notebook的特殊指令\n",
    "- 以%開頭\n",
    "    - %cd: 改變路徑\n",
    "    - %save: 將儲存為.py\n",
    "    - %run xxx.py: 執行py檔\n",
    "    - %timeit: 計算cell執行時間\n",
    "    - %matplotlib inline: 將繪製的圖直接顯示在notebook\n",
    "    - %matplotlib notebook\n",
    "- 以!開頭 可輸入termial的指令\n",
    "    - !ncidea-smi\n",
    "    - !ls\n",
    "    - !rm\n",
    "    - ! pip install ...\n",
    "- 以?開頭後面加function name，可以看說明文件"
   ]
  }
 ],
 "metadata": {
  "kernelspec": {
   "display_name": "Python 3",
   "language": "python",
   "name": "python3"
  },
  "language_info": {
   "codemirror_mode": {
    "name": "ipython",
    "version": 3
   },
   "file_extension": ".py",
   "mimetype": "text/x-python",
   "name": "python",
   "nbconvert_exporter": "python",
   "pygments_lexer": "ipython3",
   "version": "3.6.6"
  }
 },
 "nbformat": 4,
 "nbformat_minor": 2
}
