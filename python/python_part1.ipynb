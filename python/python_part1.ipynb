{
 "cells": [
  {
   "cell_type": "markdown",
   "metadata": {},
   "source": [
    "# **筆記 by 朱建宇**\n",
    "# **1_Python 程式設計快速上手part1**\n",
    "\n",
    "更完整的內容，可以參考\n",
    "[補充教材 史丹佛大學 CS41 \"the python programming language\"](https://stanfordpython.com/#lecture)\n",
    "\n",
    "### 前言\n",
    "這個部分幾乎都是再講程式，筆記其實意外地很難做<br>\n",
    "我比較喜歡使用ipynb的檔案，請大家多多包涵"
   ]
  },
  {
   "cell_type": "markdown",
   "metadata": {},
   "source": [
    "# Day1 上午內容 (2019/7/26)\n",
    "\n",
    "- 安裝python與基礎環境使用\n",
    "- 基礎程式設計\n",
    "    - 變數\n",
    "        - 保留字\n",
    "    - 型別 (int, float, str, ...)\n",
    "    - 運算子\n",
    "        - 算數運算子 (+, _, *, /, ...)\n",
    "        - 指派運算子 (=, *=, +=, ...)\n",
    "        - 比較運算子 (<, >=, ...)\n",
    "    - python內建函數 (print(), type(), int(), str(), ...)\n",
    "- 資料結構\n",
    "    - numbers\n",
    "        - int, float, complex\n",
    "    - lists\n",
    "    - Strings\n",
    "    - Sets\n",
    "    - Tuples\n",
    "    - Dictionary\n",
    "- Control Flow(流程控制)\n",
    "    - if\n",
    "    - for loop\n",
    "    - while loop\n",
    "        - break, continue, pass\n",
    "- list comprehension"
   ]
  },
  {
   "cell_type": "markdown",
   "metadata": {},
   "source": [
    "# __python 快速上手 (影片1-1 ~ 1-4)__\n",
    "\n",
    "\n",
    "### why python?\n",
    "* 好寫，是資料科學的熱門語言\n",
    "\n",
    "### 本機上如何安裝python\n",
    "* 學校這邊提供的建議是下載 anaconda <br>\n",
    "* (註): python的特色是它有非常強的第三方函示庫，<br>\n",
    "而anaconda已經把資料科學常用的函示庫都已經下載好了<br>\n",
    "假如想要使用還未安裝的套件，必須開啟 Anaconda Prompt\n",
    "並且在裡面輸入指令 \"conda install 套件名稱\"\n",
    "\n",
    "### Python Shell\n",
    "* 它是一個可以執行指令，跟python互動的地方<br>\n",
    "不過我們大部分還是用 jupyter notebook比較方便\n",
    "\n",
    "### jupyter notebook\n",
    "* 它是以cell為單位，對開發人員非常好用<br>\n",
    "如果參數或資料放在cell的最後一行，會顯示出來<br>\n",
    "對於資料探索，或建模型相當有用\n",
    "\n",
    "### 如何在本機開啟 jupyter notebook\n",
    "* 開啟 Anaconda Prompt<br>並且在裡面輸入指令 \"jupyter notebook\"\n",
    "\n",
    "### 影片1-4: sever 操作\n",
    "\n",
    "* 關閉ipynb檔案\n",
    "running 裡面會顯示 後端還開著的程式檔案 按下SHUTDOWN 才算是確實關閉\n",
    "\n",
    "* 關閉Sever釋出資源給其他人使用\n",
    "Hub --> Control Panel --> Stop My Sever"
   ]
  },
  {
   "cell_type": "code",
   "execution_count": null,
   "metadata": {},
   "outputs": [],
   "source": []
  },
  {
   "cell_type": "markdown",
   "metadata": {},
   "source": [
    "# **Python 程式設計** (影片2)"
   ]
  },
  {
   "cell_type": "markdown",
   "metadata": {},
   "source": [
    "# 大綱\n",
    "* 語法<br>\n",
    "* 基礎語法<br>\n",
    "* 資料結構<br>\n",
    "* 流程控制<br>\n",
    "* 函示<br>\n",
    "* 生成器<br>\n",
    "* 正規表示式<br>\n",
    "* 類別"
   ]
  },
  {
   "cell_type": "markdown",
   "metadata": {},
   "source": [
    "### **用 # 來註解**\n",
    "\n",
    "• 註解是在程式中會被忽略的文字<br>\n",
    "• 你可以用註解來:文字解釋程式\n",
    "碼、不執行某段程式碼、提醒自\n",
    "己、做任何紀錄<br>\n",
    "• 快捷鍵:Ctrl + /<br>"
   ]
  },
  {
   "cell_type": "markdown",
   "metadata": {},
   "source": [
    "## Random Access Memory, RAM( 隨機存取記憶體)\n",
    "• 記憶體:程式執行時,資料暫存的地方\n",
    "\n",
    "## Python裡的變數(Variable)\n",
    "• 變數:用來__參考__電腦記憶體裡面的值\n",
    "\n",
    "• 透過__定義__來新增一個__有名稱__的變數\n",
    "\n",
    "## **變數命名規則**\n",
    "1.變數名稱只能使用以下字元\n",
    "<ul>\n",
    "    <li>小寫字母(a-z)</li>\n",
    "    <li>大寫字母(A-Z)</li>\n",
    "    <li>數字(0-9)</li>\n",
    "    <li>底線( _ )</li>\n",
    "</ul>    \n",
    "2. 首字元不可為數字<br>\n",
    "3. 變數名稱不可為保留字<br>\n",
    "4. 好的變數的命名，可以增加程式可讀性\n",
    "\n",
    "## **保留字**\n",
    "![保留字](./img/python-01.jpg)\n",
    "\n"
   ]
  },
  {
   "cell_type": "code",
   "execution_count": 1,
   "metadata": {},
   "outputs": [
    {
     "name": "stdout",
     "output_type": "stream",
     "text": [
      "1 \tid: 140062867602592\n",
      "5 \tid: 140062867602720\n",
      "5 \tid: 140062867602720\n",
      "1 \tid: 140062867602592\n",
      "2\n",
      "john\n",
      "5\t5\n",
      "True\n",
      "True\n"
     ]
    }
   ],
   "source": [
    "#變數\n",
    "\n",
    "a = 1\n",
    "b = c = 5\n",
    "d, e, f = 1, 2, \"john\"\n",
    "g = 7/3\n",
    "\n",
    "print(a, \"\\tid:\",id(a))\n",
    "print(b, \"\\tid:\",id(b))\n",
    "print(c, \"\\tid:\",id(c))\n",
    "print(d, \"\\tid:\",id(d))  #這 Garbage collecaon\n",
    "print(e)\n",
    "print(f)\n",
    "\n",
    "print(b,c,sep=\"\\t\")\n",
    "print(b is c)\n",
    "print(a is d)"
   ]
  },
  {
   "cell_type": "markdown",
   "metadata": {},
   "source": [
    "### 補充\n",
    "\n",
    "* id可以想成是變數住在記憶體裡頭的地址\n",
    "\n",
    "* Python變數的重點\n",
    "    - 當賦值給變數時,不會造成複製\n",
    "    - 兩個變數可以有完全相同的值,但是卻指向不 同的物件\n",
    "\n",
    "* 垃圾回收機制(Garbage collecaon)\n",
    "    - 沒有被使用的值,Python就會自動,將其回收,以利之後再次使用"
   ]
  },
  {
   "cell_type": "markdown",
   "metadata": {},
   "source": [
    "# Data Type 型別"
   ]
  },
  {
   "cell_type": "code",
   "execution_count": 2,
   "metadata": {},
   "outputs": [],
   "source": [
    "counter = 100 #整數 int\n",
    "miles = 1000.0 #浮點數 float\n",
    "name = \"John\" #字串 str"
   ]
  },
  {
   "cell_type": "code",
   "execution_count": 3,
   "metadata": {},
   "outputs": [
    {
     "name": "stdout",
     "output_type": "stream",
     "text": [
      "<class 'int'>\n",
      "<class 'int'>\n",
      "<class 'float'>\n",
      "<class 'float'>\n",
      "<class 'str'>\n",
      "<class 'str'>\n"
     ]
    }
   ],
   "source": [
    "# 善用type函數來查看型別\n",
    "\n",
    "print(type(100))\n",
    "print(type(counter))\n",
    "print(type(1000.0))\n",
    "print(type(miles))\n",
    "print(type(\"John\"))\n",
    "print(type(name))"
   ]
  },
  {
   "cell_type": "markdown",
   "metadata": {},
   "source": [
    "# **算數運算子**"
   ]
  },
  {
   "cell_type": "code",
   "execution_count": 4,
   "metadata": {},
   "outputs": [
    {
     "name": "stdout",
     "output_type": "stream",
     "text": [
      "相加: 8\n",
      "相減: 2\n",
      "相除: 1.6666666666666667\n",
      "5除以3取餘數: 2\n",
      "相乘: 15\n",
      "5的3次方: 125\n",
      "5除以3取整數: 1\n"
     ]
    }
   ],
   "source": [
    "add = 5 + 3\n",
    "print(\"相加:\",add)\n",
    "sub = 5 - 3\n",
    "print(\"相減:\",sub)\n",
    "div = 5 / 3\n",
    "print(\"相除:\",div)\n",
    "mod = 5 % 3\n",
    "print(\"5除以3取餘數:\",mod)\n",
    "mul = 5 * 3\n",
    "print(\"相乘:\",mul)\n",
    "f_div = 5 ** 3\n",
    "print(\"5的3次方:\",f_div)\n",
    "power = 5 // 3\n",
    "print(\"5除以3取整數:\",power)"
   ]
  },
  {
   "cell_type": "markdown",
   "metadata": {},
   "source": [
    "# **指派運算子**"
   ]
  },
  {
   "cell_type": "code",
   "execution_count": 5,
   "metadata": {},
   "outputs": [
    {
     "name": "stdout",
     "output_type": "stream",
     "text": [
      "-20\n",
      "-40\n",
      "-20\n",
      "4.0\n",
      "-16.0\n",
      "320.0\n"
     ]
    }
   ],
   "source": [
    "A = 20\n",
    "B = -20\n",
    "A = B  # 將右賦予左\n",
    "print(A)\n",
    "A += B  # a = a + b\n",
    "print(A)\n",
    "A -= B # a = a - b\n",
    "print(A)\n",
    "A /= -5 # a = a / b\n",
    "print(A)\n",
    "A %= B # a = a % b\n",
    "print(A)\n",
    "A *= B # a = a * b\n",
    "print(A)"
   ]
  },
  {
   "cell_type": "markdown",
   "metadata": {},
   "source": [
    "# **比較運算子**"
   ]
  },
  {
   "cell_type": "code",
   "execution_count": 6,
   "metadata": {},
   "outputs": [
    {
     "name": "stdout",
     "output_type": "stream",
     "text": [
      "False\n",
      "True\n",
      "True\n",
      "False\n",
      "True\n",
      "False\n"
     ]
    }
   ],
   "source": [
    "a,b = 10, 20\n",
    "print(a == b)\n",
    "print(a != b)\n",
    "print(a < b)\n",
    "print(a > b)\n",
    "print(a <= b)\n",
    "print(a >= b)"
   ]
  },
  {
   "cell_type": "markdown",
   "metadata": {},
   "source": [
    "# **Built-in Function (python內建函數)**"
   ]
  },
  {
   "cell_type": "code",
   "execution_count": 7,
   "metadata": {},
   "outputs": [
    {
     "name": "stdout",
     "output_type": "stream",
     "text": [
      "<class 'int'>\n",
      "<class 'str'>\n"
     ]
    }
   ],
   "source": [
    "#ex. print() type() int() str()\n",
    "integer = 123\n",
    "string = \"456\"\n",
    "\n",
    "s_to_i = int(string)\n",
    "i_to_s = str(integer)\n",
    "\n",
    "print(type(s_to_i))\n",
    "print(type(i_to_s))"
   ]
  },
  {
   "cell_type": "code",
   "execution_count": null,
   "metadata": {},
   "outputs": [],
   "source": []
  },
  {
   "cell_type": "markdown",
   "metadata": {},
   "source": [
    "# Data Structures(資料結構)  影片 3-1"
   ]
  },
  {
   "cell_type": "markdown",
   "metadata": {},
   "source": [
    "### numbers\n",
    "python 內建的三種數值類型"
   ]
  },
  {
   "cell_type": "code",
   "execution_count": 8,
   "metadata": {},
   "outputs": [
    {
     "name": "stdout",
     "output_type": "stream",
     "text": [
      "<class 'int'>\n",
      "<class 'float'>\n",
      "<class 'complex'>\n"
     ]
    }
   ],
   "source": [
    "print(type(4)) #整數 int\n",
    "print(type(4.0)) #浮點數 float\n",
    "c = 4+3j\n",
    "print(type(c)) #複數 complex"
   ]
  },
  {
   "cell_type": "markdown",
   "metadata": {},
   "source": [
    "## lists\n",
    "list 是務必要會的東西<br>\n",
    "套件numpy 跟 pandas 裡面也常常會用到list的特性"
   ]
  },
  {
   "cell_type": "code",
   "execution_count": 9,
   "metadata": {},
   "outputs": [],
   "source": [
    "# empty List\n",
    "my_list = []\n",
    "\n",
    "#list of int\n",
    "my_list = [1,2,3]\n",
    "\n",
    "#List with mixed datatypes\n",
    "my_list = [1, \"hello\", 2.3]\n",
    "\n",
    "#nested list\n",
    "my_list = [\"mouse\", [8, 4, 6]]"
   ]
  },
  {
   "cell_type": "code",
   "execution_count": 10,
   "metadata": {},
   "outputs": [
    {
     "name": "stdout",
     "output_type": "stream",
     "text": [
      "---List index----\n",
      "h\n",
      "e\n",
      "\n",
      "----Nested List------\n",
      "9\n",
      "\n",
      "----negative indexing-----\n",
      "o\n",
      "h\n"
     ]
    }
   ],
   "source": [
    "# list index\n",
    "\n",
    "my_list = ['h','e','l','l','o']\n",
    "print(\"---List index----\")\n",
    "print(my_list[0]) # list index 必須要是整數\n",
    "print(my_list[1])\n",
    "print()\n",
    "n_list = [\"heppy\",[2,0,1,9]]\n",
    "\n",
    "print(\"----Nested List------\")\n",
    "print(n_list[1][3])\n",
    "print()\n",
    "\n",
    "# list- negative indexing\n",
    "print(\"----negative indexing-----\")\n",
    "print(my_list[-1])\n",
    "print(my_list[-5])"
   ]
  },
  {
   "cell_type": "code",
   "execution_count": 12,
   "metadata": {},
   "outputs": [
    {
     "name": "stdout",
     "output_type": "stream",
     "text": [
      "---List-slicing---\n",
      "[2, 3, 4]\n",
      "[0, 1, 2, 3]\n",
      "[5, 6, 7, 8]\n",
      "[0, 1, 2, 3, 4, 5, 6, 7, 8]\n",
      "[0, 3, 6]\n"
     ]
    }
   ],
   "source": [
    "# List-slicing\n",
    "my_list = [0,1,2,3,4,5,6,7,8]\n",
    "print(\"---List-slicing---\")\n",
    "print(my_list[2:5]) #elements 3th to 5th\n",
    "print(my_list[:-5]) #elements beginning to 4th\n",
    "print(my_list[5:]) #elements 6th to end\n",
    "print(my_list[:]) # elements beginning to end\n",
    "print(my_list[::3]) # slice a parent list a step length"
   ]
  },
  {
   "cell_type": "markdown",
   "metadata": {},
   "source": [
    "#### Built-in List Methods\n",
    "常用的list方法"
   ]
  },
  {
   "cell_type": "code",
   "execution_count": 29,
   "metadata": {},
   "outputs": [
    {
     "name": "stdout",
     "output_type": "stream",
     "text": [
      "[0, 0, 1, 2, 3, 4, 5, 6, 7, 8]\n",
      "[0, 0, 1, 2, 3, 4, 5, 6, 7, 8, 9]\n",
      "[0, 0, 1, 2, 3, 4, 5, 6, 7, 8]\n",
      "6\n",
      "------pop()--------\n",
      "6\n",
      "[0, 0, 1, 2, 3, 4, 5, 7, 8]\n"
     ]
    }
   ],
   "source": [
    "num_list = [0,0,1,2,3,4,5,6,7,8]\n",
    "print(num_list)\n",
    "\n",
    "# append() is used to add a element at the of the list\n",
    "num_list.append(9)\n",
    "print(num_list)\n",
    "\n",
    "# remove() takes a single element as an argument and removes it from the list.\n",
    "num_list.remove(9)\n",
    "print(num_list)\n",
    "\n",
    "#index() is used ot find the index value of a particular element.\n",
    "print(num_list.index(5))\n",
    " \n",
    "'''\n",
    "pop() takes a single argument (index) and removes the element\n",
    "present at that index from the list\n",
    "'''\n",
    "print(\"------pop()--------\")\n",
    "result = num_list.pop(7)    #index 7 的數字是 6\n",
    "print(result)\n",
    "print(num_list)"
   ]
  },
  {
   "cell_type": "markdown",
   "metadata": {},
   "source": [
    "# Tuples    (影片 3-2)"
   ]
  },
  {
   "cell_type": "code",
   "execution_count": 2,
   "metadata": {},
   "outputs": [
    {
     "name": "stdout",
     "output_type": "stream",
     "text": [
      "()\n",
      "(1, 2, 3)\n"
     ]
    }
   ],
   "source": [
    "# empty tuple\n",
    "my_tuple = ()\n",
    "print(my_tuple)\n",
    "\n",
    "# tuple having inteegers\n",
    "my_tuple = (1, 2, 3)\n",
    "print(my_tuple)"
   ]
  },
  {
   "cell_type": "markdown",
   "metadata": {},
   "source": [
    "# Strings"
   ]
  },
  {
   "cell_type": "code",
   "execution_count": 6,
   "metadata": {},
   "outputs": [
    {
     "name": "stdout",
     "output_type": "stream",
     "text": [
      "Hello\n",
      "Hello\n"
     ]
    }
   ],
   "source": [
    "# all of the following are equivalent\n",
    "my_string = 'Hello'\n",
    "print(my_string)\n",
    "\n",
    "my_string = \"Hello\"\n",
    "print(my_string)"
   ]
  },
  {
   "cell_type": "code",
   "execution_count": 11,
   "metadata": {},
   "outputs": [
    {
     "name": "stdout",
     "output_type": "stream",
     "text": [
      "my_str =  Hello World\n",
      "H\n",
      "d\n",
      "llo\n"
     ]
    }
   ],
   "source": [
    "my_str = \"Hello World\"\n",
    "print(\"my_str = \",my_str)\n",
    "\n",
    "# first character, last character\n",
    "print(my_str[0])\n",
    "print(my_str[-1])\n",
    "\n",
    "# 3th to 5th\n",
    "print(my_str[2:5])"
   ]
  },
  {
   "cell_type": "code",
   "execution_count": 1,
   "metadata": {},
   "outputs": [
    {
     "name": "stdout",
     "output_type": "stream",
     "text": [
      "HelloWorld!\n",
      "HelloHelloHello\n"
     ]
    }
   ],
   "source": [
    "str1 = \"Hello\"\n",
    "str2 = \"World!\"\n",
    "\n",
    "# useing +\n",
    "print(str1 + str2)\n",
    "\n",
    "#uesing *\n",
    "print(str1*3)"
   ]
  },
  {
   "cell_type": "code",
   "execution_count": 11,
   "metadata": {},
   "outputs": [
    {
     "name": "stdout",
     "output_type": "stream",
     "text": [
      "0\n",
      "Hello world\n",
      "HELLO WORLD\n",
      "True\n",
      "['hello', 'world']\n",
      "Nihao world\n"
     ]
    }
   ],
   "source": [
    "# string Methods\n",
    "\n",
    "my_string = \"hello world\"\n",
    "print(my_string.find(\"he\"))\n",
    "print(my_string.capitalize())\n",
    "print(my_string.upper())\n",
    "print(my_string.endswith(\"d\"))\n",
    "print(my_string.split(\" \"))\n",
    "print(my_string.replace(\"hello\", \"Nihao\"))"
   ]
  },
  {
   "cell_type": "markdown",
   "metadata": {},
   "source": [
    "# Sets"
   ]
  },
  {
   "cell_type": "code",
   "execution_count": 1,
   "metadata": {},
   "outputs": [
    {
     "name": "stdout",
     "output_type": "stream",
     "text": [
      "{1, 2, 3}\n",
      "{'Hello', 1.0, (1, 2, 3)}\n"
     ]
    }
   ],
   "source": [
    "# set of integers\n",
    "my_set = {1,2,3}\n",
    "print(my_set)\n",
    "\n",
    "# set of mixed datatypes\n",
    "my_set = {1.0, \"Hello\", (1,2,3)}\n",
    "print(my_set)"
   ]
  },
  {
   "cell_type": "code",
   "execution_count": 2,
   "metadata": {},
   "outputs": [
    {
     "name": "stdout",
     "output_type": "stream",
     "text": [
      "{'h', 'p', 'm', 's', 'a'}\n",
      "{'a', 'm'}\n",
      "{'p', 's'}\n"
     ]
    }
   ],
   "source": [
    "# set operations\n",
    "set_1 = set([\"s\", \"p\", \"a\", \"m\"])\n",
    "set_2 = set([\"h\", \"a\", \"m\"])\n",
    "\n",
    "print(set_1 | set_2)\n",
    "print(set_1 & set_2)\n",
    "\n",
    "print(set_1 - set_2)"
   ]
  },
  {
   "cell_type": "markdown",
   "metadata": {},
   "source": [
    "# Dictionary"
   ]
  },
  {
   "cell_type": "code",
   "execution_count": 4,
   "metadata": {},
   "outputs": [],
   "source": [
    "# empty dictionary\n",
    "my_dict = {}\n",
    "\n",
    "# dictionary with integer keys\n",
    "my_dict = {1: \"a\" ,2: \"b\"}\n",
    "\n",
    "# dictionary with mixed keys\n",
    "my_dact = {\"name\": \"Tom\", 1: 23}\n"
   ]
  },
  {
   "cell_type": "code",
   "execution_count": 10,
   "metadata": {},
   "outputs": [
    {
     "name": "stdout",
     "output_type": "stream",
     "text": [
      "{'one': '1', 'OneTwo': 12}\n",
      "{'one': 111, 'OneTwo': 12}\n",
      "{'one': 1, 'two': 2, 'Three': 3, 'Four': 4, 'Five': 5}\n"
     ]
    }
   ],
   "source": [
    "# Another define\n",
    "my_dict = dict()\n",
    "\n",
    "# add elements\n",
    "my_dict[\"one\"] = \"1\"\n",
    "my_dict[\"OneTwo\"] = 12\n",
    "print(my_dict)\n",
    "\n",
    "my_dict['one'] = 111\n",
    "print(my_dict)\n",
    "\n",
    "names = [\"one\", \"two\", \"Three\", \"Four\", \"Five\"]\n",
    "numbers = [1,2,3,4,5]\n",
    "merged_dict = dict(zip(names, numbers))\n",
    "print(merged_dict)"
   ]
  },
  {
   "cell_type": "markdown",
   "metadata": {},
   "source": [
    "# Dictionary Methods"
   ]
  },
  {
   "cell_type": "code",
   "execution_count": 16,
   "metadata": {},
   "outputs": [
    {
     "name": "stdout",
     "output_type": "stream",
     "text": [
      "man\n",
      "{'name': 'Jack', 'age': 16}\n",
      "dict_items([('name', 'Jack'), ('age', 16)])\n",
      "dict_keys(['name', 'age'])\n",
      "{}\n"
     ]
    }
   ],
   "source": [
    "my_dict = {\"name\":\"Jack\", \"age\":16, \"gender\":\"man\"}\n",
    "\n",
    "# remove\n",
    "print(my_dict.pop(\"gender\"))\n",
    "print(my_dict)\n",
    "\n",
    "print(my_dict.items())\n",
    "\n",
    "print(my_dict.keys())\n",
    "\n",
    "my_dict.clear()\n",
    "print(my_dict)"
   ]
  },
  {
   "cell_type": "code",
   "execution_count": 12,
   "metadata": {},
   "outputs": [
    {
     "data": {
      "text/plain": [
       "{'name': 'Jack', 'age': 16}"
      ]
     },
     "execution_count": 12,
     "metadata": {},
     "output_type": "execute_result"
    }
   ],
   "source": [
    "my_dict"
   ]
  },
  {
   "cell_type": "markdown",
   "metadata": {},
   "source": [
    "# Control Flow (流程控制)\n",
    "### 滿足特定條件，就執行程式碼\n",
    "- if\n",
    "- for\n",
    "- while"
   ]
  },
  {
   "cell_type": "markdown",
   "metadata": {},
   "source": [
    "### if"
   ]
  },
  {
   "cell_type": "code",
   "execution_count": 18,
   "metadata": {},
   "outputs": [
    {
     "name": "stdout",
     "output_type": "stream",
     "text": [
      "3 is a positive number.\n"
     ]
    }
   ],
   "source": [
    "# if\n",
    "\n",
    "num = 3\n",
    "if num > 0:\n",
    "    print(num, \"is a positive number.\")\n",
    "    \n",
    "num = -1\n",
    "if num > 0:\n",
    "    print(num, \"is a positive number.\")\n",
    "    \n",
    "## Output: -1 is a Negative number."
   ]
  },
  {
   "cell_type": "code",
   "execution_count": 19,
   "metadata": {},
   "outputs": [
    {
     "name": "stdout",
     "output_type": "stream",
     "text": [
      "-1 is a Negative number\n"
     ]
    }
   ],
   "source": [
    "#if ... else\n",
    "\n",
    "num = -1\n",
    "if num >= 0:\n",
    "    print(num, \"is a positive number.\")\n",
    "else:\n",
    "    print(num, \"is a Negative number\")"
   ]
  },
  {
   "cell_type": "code",
   "execution_count": 20,
   "metadata": {},
   "outputs": [
    {
     "name": "stdout",
     "output_type": "stream",
     "text": [
      "Zero\n"
     ]
    }
   ],
   "source": [
    "# if ... elif ... else\n",
    "num = 0\n",
    "if num > 0:\n",
    "    print(\"Positive number\")\n",
    "elif num == 0:\n",
    "    print(\"Zero\")\n",
    "else:\n",
    "    print(\"Negative number\")"
   ]
  },
  {
   "cell_type": "code",
   "execution_count": 21,
   "metadata": {},
   "outputs": [
    {
     "name": "stdout",
     "output_type": "stream",
     "text": [
      "From 2 to 10\n"
     ]
    }
   ],
   "source": [
    "# Logical - or, and\n",
    "num = 5\n",
    "if num == 0 or num == 1:\n",
    "    print(\"Zero or One\")\n",
    "elif num >= 2 and num <= 10:\n",
    "    print(\"From 2 to 10\")\n",
    "else:\n",
    "    print(\"More\")"
   ]
  },
  {
   "cell_type": "code",
   "execution_count": 23,
   "metadata": {},
   "outputs": [
    {
     "name": "stdout",
     "output_type": "stream",
     "text": [
      "num is 4\n",
      "num is not 6\n",
      "num is not 5\n",
      "num is not 7\n"
     ]
    }
   ],
   "source": [
    "# is, not\n",
    "num = 4\n",
    "if num is 4:\n",
    "    print(\"num is 4\")\n",
    "\n",
    "if num is not 6:\n",
    "    print(\"num is not 6\")\n",
    "\n",
    "if not num == 5:\n",
    "    print(\"num is not 5\")\n",
    "\n",
    "if not num is 7:\n",
    "    print(\"num is not 7\")"
   ]
  },
  {
   "cell_type": "markdown",
   "metadata": {},
   "source": [
    "### For loop"
   ]
  },
  {
   "cell_type": "code",
   "execution_count": 3,
   "metadata": {},
   "outputs": [
    {
     "name": "stdout",
     "output_type": "stream",
     "text": [
      "The sum is 55\n"
     ]
    }
   ],
   "source": [
    "numbers = [1,2,3,4,5,6,7,8,9,10]\n",
    "\n",
    "my_sum = 0\n",
    "for val in numbers:   # 這邊要加冒號 :   list本身就是可迭代的\n",
    "    my_sum = my_sum + val  # 迴圈裡面要縮排，很重要\n",
    "print(\"The sum is\", my_sum)"
   ]
  },
  {
   "cell_type": "code",
   "execution_count": 13,
   "metadata": {},
   "outputs": [
    {
     "name": "stdout",
     "output_type": "stream",
     "text": [
      "number 1\n",
      "number 2\n",
      "number 3\n",
      "number 4\n",
      "number 5\n",
      "number 6\n",
      "2 steps 1\n",
      "2 steps 3\n",
      "2 steps 5\n"
     ]
    }
   ],
   "source": [
    "# range(stop)\n",
    "# range(start,stop[, step])\n",
    "'''\n",
    "這是一個 list 用 len() 這個函數去取出它的長度為6\n",
    "把6放入range()這個函式裡面，做出一個可迭代的物件\n",
    "搭配for迴圈組合出來的程式\n",
    "'''\n",
    "\n",
    "numbers = [1,2,3,4,5,6]\n",
    "\n",
    "for i in range(len(numbers)):\n",
    "    print(\"number\", numbers[i]) \n",
    "    \n",
    "for i in range(0, len(numbers), 2):\n",
    "    print(\"2 steps\", numbers[i])"
   ]
  },
  {
   "cell_type": "code",
   "execution_count": 15,
   "metadata": {},
   "outputs": [
    {
     "name": "stdout",
     "output_type": "stream",
     "text": [
      "0 Dogs\n",
      "1 Cat\n",
      "2 Turtle\n",
      "3 Rabbits\n"
     ]
    }
   ],
   "source": [
    "# for loop 搭配 enumerate()\n",
    "pets = (\"Dogs\", \"Cat\", \"Turtle\", \"Rabbits\")\n",
    "for index, pet in enumerate(pets):  # enumerate 可以產生 index\n",
    "    print(index, pet)"
   ]
  },
  {
   "cell_type": "markdown",
   "metadata": {},
   "source": [
    "# while Loop"
   ]
  },
  {
   "cell_type": "code",
   "execution_count": 18,
   "metadata": {},
   "outputs": [
    {
     "name": "stdout",
     "output_type": "stream",
     "text": [
      "The sum is 55\n"
     ]
    }
   ],
   "source": [
    "# while loop 和 for loop 最大的差別在於有沒有預先知道迴圈的次數\n",
    "\n",
    "n = 10\n",
    "my_sum = 0\n",
    "i = 1\n",
    "\n",
    "while i <= n:\n",
    "    my_sum = my_sum + i\n",
    "    i = i+1\n",
    "print(\"The sum is\", my_sum)"
   ]
  },
  {
   "cell_type": "markdown",
   "metadata": {},
   "source": [
    "### break, continue, pass"
   ]
  },
  {
   "cell_type": "code",
   "execution_count": 11,
   "metadata": {},
   "outputs": [
    {
     "name": "stdout",
     "output_type": "stream",
     "text": [
      "-----break-----\n",
      "1\n",
      "2\n",
      "3\n",
      "\n",
      "-----continue-----\n",
      "1\n",
      "2\n",
      "9\n",
      "10\n",
      "\n",
      "-----pass-----\n"
     ]
    }
   ],
   "source": [
    "numbers = [1,2,3,4,5,6,7,8,9,10]\n",
    "\n",
    "#break 中斷\n",
    "print(\"-----break-----\")\n",
    "for val in numbers:\n",
    "    if val >= 4:\n",
    "        break\n",
    "    print(val)\n",
    "print()\n",
    "    \n",
    "# continue 繼續\n",
    "print(\"-----continue-----\")\n",
    "for val in numbers:\n",
    "    if val >= 3 and val<=8:\n",
    "        continue\n",
    "    print(val)\n",
    "print()\n",
    "\n",
    "# pass 不做任何事\n",
    "print(\"-----pass-----\")\n",
    "for val in numbers:\n",
    "    pass"
   ]
  },
  {
   "cell_type": "markdown",
   "metadata": {},
   "source": [
    "# list comprehension"
   ]
  },
  {
   "cell_type": "code",
   "execution_count": 12,
   "metadata": {},
   "outputs": [
    {
     "name": "stdout",
     "output_type": "stream",
     "text": [
      "[0, 1, 4, 9, 16, 25, 36, 49, 64, 81]\n"
     ]
    }
   ],
   "source": [
    "# example1\n",
    "squares = []\n",
    "for x in range(10):\n",
    "    squares.append(x**2)\n",
    "print(squares)"
   ]
  },
  {
   "cell_type": "code",
   "execution_count": 16,
   "metadata": {},
   "outputs": [
    {
     "name": "stdout",
     "output_type": "stream",
     "text": [
      "[0, 1, 4, 9, 16, 25, 36, 49, 64, 81]\n"
     ]
    }
   ],
   "source": [
    "squares = [x**2 for x in range(10)]  # 一行抵三行，適合快速開發\n",
    "print(squares)"
   ]
  },
  {
   "cell_type": "code",
   "execution_count": 18,
   "metadata": {},
   "outputs": [
    {
     "name": "stdout",
     "output_type": "stream",
     "text": [
      "[0, 4, 16, 36, 64]\n"
     ]
    }
   ],
   "source": [
    "# example2\n",
    "squares = []\n",
    "for x in range(10):\n",
    "    if x % 2 == 0:\n",
    "        squares.append(x**2)\n",
    "print(squares)"
   ]
  },
  {
   "cell_type": "code",
   "execution_count": 19,
   "metadata": {},
   "outputs": [
    {
     "name": "stdout",
     "output_type": "stream",
     "text": [
      "[0, 4, 16, 36, 64]\n"
     ]
    }
   ],
   "source": [
    "squares = [x**2 for x in range(10) if x % 2 == 0]\n",
    "print(squares)"
   ]
  },
  {
   "cell_type": "code",
   "execution_count": null,
   "metadata": {},
   "outputs": [],
   "source": []
  }
 ],
 "metadata": {
  "kernelspec": {
   "display_name": "Python 3",
   "language": "python",
   "name": "python3"
  },
  "language_info": {
   "codemirror_mode": {
    "name": "ipython",
    "version": 3
   },
   "file_extension": ".py",
   "mimetype": "text/x-python",
   "name": "python",
   "nbconvert_exporter": "python",
   "pygments_lexer": "ipython3",
   "version": "3.6.6"
  }
 },
 "nbformat": 4,
 "nbformat_minor": 2
}
