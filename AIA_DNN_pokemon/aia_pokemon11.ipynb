{
 "cells": [
  {
   "cell_type": "code",
   "execution_count": 1,
   "metadata": {},
   "outputs": [
    {
     "name": "stderr",
     "output_type": "stream",
     "text": [
      "/opt/conda/lib/python3.6/site-packages/h5py/__init__.py:36: FutureWarning: Conversion of the second argument of issubdtype from `float` to `np.floating` is deprecated. In future, it will be treated as `np.float64 == np.dtype(float).type`.\n",
      "  from ._conv import register_converters as _register_converters\n"
     ]
    }
   ],
   "source": [
    "from sklearn.model_selection import train_test_split\n",
    "from sklearn.utils import shuffle\n",
    "import numpy as np\n",
    "import tensorflow as tf\n",
    "from tqdm import tqdm_notebook\n",
    "import matplotlib.pyplot as plt\n",
    "import pandas as pd\n",
    "\n",
    "import warnings\n",
    "warnings.filterwarnings(\"ignore\")"
   ]
  },
  {
   "cell_type": "code",
   "execution_count": 2,
   "metadata": {},
   "outputs": [
    {
     "name": "stdout",
     "output_type": "stream",
     "text": [
      "(7160, 299)\n",
      "(1791, 298)\n"
     ]
    }
   ],
   "source": [
    "train = pd.read_csv(\"./data/x_train_preprocessing.csv\")\n",
    "test = pd.read_csv(\"./data/x_test_preprocessing.csv\")\n",
    "sample_submission = pd.read_csv(\"./data/sample_submission.csv\")\n",
    "print(train.shape)\n",
    "print(test.shape)"
   ]
  },
  {
   "cell_type": "code",
   "execution_count": 3,
   "metadata": {},
   "outputs": [],
   "source": [
    "# setting hyperparameter\n",
    "batch_size = 32\n",
    "epochs = 40\n",
    "lr = 0.01\n",
    "train_ratio = 0.8"
   ]
  },
  {
   "cell_type": "code",
   "execution_count": 4,
   "metadata": {},
   "outputs": [],
   "source": [
    "y_ = train.iloc[:,-1]\n",
    "\n",
    "y_one_hot = np.zeros((len(y_), 6))  \n",
    "y_one_hot[np.arange(len(y_)), y_] = 1"
   ]
  },
  {
   "cell_type": "code",
   "execution_count": 5,
   "metadata": {},
   "outputs": [
    {
     "name": "stdout",
     "output_type": "stream",
     "text": [
      "training set data dimension\n",
      "(5728, 298)\n",
      "(5728, 6)\n",
      "-----------\n",
      "training set: 5728\n",
      "validation set: 1432\n",
      "testing set: 1791\n"
     ]
    }
   ],
   "source": [
    "x_train = train.iloc[:,:-1]\n",
    "x_test = test\n",
    "y_train = y_one_hot\n",
    "\n",
    "\n",
    "x_train, x_valid, y_train, y_valid = train_test_split(x_train, \n",
    "                                                      y_train, \n",
    "                                                      test_size=1.0 - train_ratio,\n",
    "                                                      stratify=y_train.argmax(axis=1))\n",
    "\n",
    "print(\"training set data dimension\")\n",
    "print(x_train.shape)\n",
    "print(y_train.shape)\n",
    "print(\"-----------\")\n",
    "print(\"training set: {}\".format(len(x_train)))\n",
    "print(\"validation set: {}\".format(len(x_valid)))\n",
    "print(\"testing set: {}\".format(len(x_test)))"
   ]
  },
  {
   "cell_type": "code",
   "execution_count": 25,
   "metadata": {},
   "outputs": [],
   "source": [
    "from tensorflow.keras.layers import Dense, Dropout\n",
    "# import regularizer\n",
    "from tensorflow.keras.regularizers import l1\n",
    "# instantiate regularizer\n",
    "reg = l1(0.0001)\n",
    "# from tensorflow.keras.layers import Conv2D\n",
    "# from tensorflow.keras.layers import LSTM"
   ]
  },
  {
   "cell_type": "code",
   "execution_count": 26,
   "metadata": {},
   "outputs": [
    {
     "name": "stdout",
     "output_type": "stream",
     "text": [
      "_________________________________________________________________\n",
      "Layer (type)                 Output Shape              Param #   \n",
      "=================================================================\n",
      "dense_10 (Dense)             (None, 256)               76544     \n",
      "_________________________________________________________________\n",
      "dropout_2 (Dropout)          (None, 256)               0         \n",
      "_________________________________________________________________\n",
      "dense_11 (Dense)             (None, 256)               65792     \n",
      "_________________________________________________________________\n",
      "dense_12 (Dense)             (None, 128)               32896     \n",
      "_________________________________________________________________\n",
      "dense_13 (Dense)             (None, 64)                8256      \n",
      "_________________________________________________________________\n",
      "dense_14 (Dense)             (None, 6)                 390       \n",
      "=================================================================\n",
      "Total params: 183,878\n",
      "Trainable params: 183,878\n",
      "Non-trainable params: 0\n",
      "_________________________________________________________________\n",
      "None\n"
     ]
    }
   ],
   "source": [
    "model = tf.keras.Sequential()\n",
    "model.add(Dense(256, activation='sigmoid', input_shape=(298,)))\n",
    "model.add(Dropout(0.2))\n",
    "# model.add(Activation('relu'))\n",
    "model.add(Dense(256, activation='relu', activity_regularizer=l1(0.00)))\n",
    "model.add(Dense(128, activation='relu', activity_regularizer=reg))\n",
    "model.add(Dense(64, activation='relu', activity_regularizer=l1(0.00)))\n",
    "model.add(Dense(6, activation='sigmoid')) \n",
    "print(model.summary())"
   ]
  },
  {
   "cell_type": "code",
   "execution_count": 27,
   "metadata": {},
   "outputs": [],
   "source": [
    "model.compile(loss='categorical_crossentropy',\n",
    "              optimizer=tf.keras.optimizers.Adam(),\n",
    "              metrics=['accuracy'])"
   ]
  },
  {
   "cell_type": "code",
   "execution_count": 28,
   "metadata": {},
   "outputs": [
    {
     "name": "stdout",
     "output_type": "stream",
     "text": [
      "Train on 4582 samples, validate on 1146 samples\n",
      "Epoch 1/40\n",
      "4582/4582 [==============================] - 1s 217us/step - loss: 1.7451 - acc: 0.2433 - val_loss: 1.6187 - val_acc: 0.3298\n",
      "Epoch 2/40\n",
      "4582/4582 [==============================] - 1s 110us/step - loss: 1.5486 - acc: 0.3680 - val_loss: 1.4486 - val_acc: 0.4328\n",
      "Epoch 3/40\n",
      "4582/4582 [==============================] - 0s 108us/step - loss: 1.4328 - acc: 0.4186 - val_loss: 1.3629 - val_acc: 0.4424\n",
      "Epoch 4/40\n",
      "4582/4582 [==============================] - 0s 107us/step - loss: 1.3488 - acc: 0.4596 - val_loss: 1.3160 - val_acc: 0.4799\n",
      "Epoch 5/40\n",
      "4582/4582 [==============================] - 0s 107us/step - loss: 1.3154 - acc: 0.4867 - val_loss: 1.2923 - val_acc: 0.4930\n",
      "Epoch 6/40\n",
      "4582/4582 [==============================] - 0s 107us/step - loss: 1.2900 - acc: 0.4935 - val_loss: 1.2936 - val_acc: 0.5035\n",
      "Epoch 7/40\n",
      "4582/4582 [==============================] - 0s 107us/step - loss: 1.2595 - acc: 0.5085 - val_loss: 1.2658 - val_acc: 0.5288\n",
      "Epoch 8/40\n",
      "4582/4582 [==============================] - 0s 106us/step - loss: 1.2472 - acc: 0.5238 - val_loss: 1.2676 - val_acc: 0.5262\n",
      "Epoch 9/40\n",
      "4582/4582 [==============================] - 0s 107us/step - loss: 1.2295 - acc: 0.5284 - val_loss: 1.2657 - val_acc: 0.5305\n",
      "Epoch 10/40\n",
      "4582/4582 [==============================] - 1s 109us/step - loss: 1.2195 - acc: 0.5297 - val_loss: 1.2405 - val_acc: 0.5209\n",
      "Epoch 11/40\n",
      "4582/4582 [==============================] - 0s 108us/step - loss: 1.2101 - acc: 0.5325 - val_loss: 1.2602 - val_acc: 0.5375\n",
      "Epoch 12/40\n",
      "4582/4582 [==============================] - 1s 109us/step - loss: 1.2059 - acc: 0.5297 - val_loss: 1.2818 - val_acc: 0.5253\n",
      "Epoch 13/40\n",
      "4582/4582 [==============================] - 0s 106us/step - loss: 1.1999 - acc: 0.5412 - val_loss: 1.2472 - val_acc: 0.5297\n",
      "Epoch 14/40\n",
      "4582/4582 [==============================] - 0s 108us/step - loss: 1.1843 - acc: 0.5458 - val_loss: 1.2323 - val_acc: 0.5384\n",
      "Epoch 15/40\n",
      "4582/4582 [==============================] - 0s 106us/step - loss: 1.1767 - acc: 0.5550 - val_loss: 1.2736 - val_acc: 0.5244\n",
      "Epoch 16/40\n",
      "4582/4582 [==============================] - 0s 107us/step - loss: 1.1703 - acc: 0.5570 - val_loss: 1.2329 - val_acc: 0.5393\n",
      "Epoch 17/40\n",
      "4582/4582 [==============================] - 0s 106us/step - loss: 1.1670 - acc: 0.5581 - val_loss: 1.2271 - val_acc: 0.5480\n",
      "Epoch 18/40\n",
      "4582/4582 [==============================] - 0s 107us/step - loss: 1.1648 - acc: 0.5528 - val_loss: 1.2433 - val_acc: 0.5419\n",
      "Epoch 19/40\n",
      "4582/4582 [==============================] - 0s 107us/step - loss: 1.1535 - acc: 0.5609 - val_loss: 1.2346 - val_acc: 0.5436\n",
      "Epoch 20/40\n",
      "4582/4582 [==============================] - 0s 107us/step - loss: 1.1507 - acc: 0.5624 - val_loss: 1.2422 - val_acc: 0.5462\n",
      "Epoch 21/40\n",
      "4582/4582 [==============================] - 1s 109us/step - loss: 1.1438 - acc: 0.5792 - val_loss: 1.2390 - val_acc: 0.5244\n",
      "Epoch 22/40\n",
      "4582/4582 [==============================] - 0s 108us/step - loss: 1.1445 - acc: 0.5659 - val_loss: 1.2564 - val_acc: 0.5436\n",
      "Epoch 23/40\n",
      "4582/4582 [==============================] - 0s 107us/step - loss: 1.1311 - acc: 0.5764 - val_loss: 1.2183 - val_acc: 0.5620\n",
      "Epoch 24/40\n",
      "4582/4582 [==============================] - 0s 107us/step - loss: 1.1227 - acc: 0.5786 - val_loss: 1.2225 - val_acc: 0.5541\n",
      "Epoch 25/40\n",
      "4582/4582 [==============================] - 0s 107us/step - loss: 1.1124 - acc: 0.5827 - val_loss: 1.2108 - val_acc: 0.5620\n",
      "Epoch 26/40\n",
      "4582/4582 [==============================] - 0s 109us/step - loss: 1.1025 - acc: 0.5938 - val_loss: 1.2090 - val_acc: 0.5524\n",
      "Epoch 27/40\n",
      "4582/4582 [==============================] - 0s 108us/step - loss: 1.0955 - acc: 0.5958 - val_loss: 1.2018 - val_acc: 0.5558\n",
      "Epoch 28/40\n",
      "4582/4582 [==============================] - 0s 107us/step - loss: 1.0908 - acc: 0.5973 - val_loss: 1.2163 - val_acc: 0.5506\n",
      "Epoch 29/40\n",
      "4582/4582 [==============================] - 0s 108us/step - loss: 1.0817 - acc: 0.5993 - val_loss: 1.1986 - val_acc: 0.5585\n",
      "Epoch 30/40\n",
      "4582/4582 [==============================] - 0s 108us/step - loss: 1.0770 - acc: 0.6000 - val_loss: 1.2064 - val_acc: 0.5620\n",
      "Epoch 31/40\n",
      "4582/4582 [==============================] - 0s 107us/step - loss: 1.0748 - acc: 0.5971 - val_loss: 1.1992 - val_acc: 0.5637\n",
      "Epoch 32/40\n",
      "4582/4582 [==============================] - 0s 109us/step - loss: 1.0629 - acc: 0.6034 - val_loss: 1.2161 - val_acc: 0.5541\n",
      "Epoch 33/40\n",
      "4582/4582 [==============================] - 0s 109us/step - loss: 1.0597 - acc: 0.6054 - val_loss: 1.2057 - val_acc: 0.5663\n",
      "Epoch 34/40\n",
      "4582/4582 [==============================] - 0s 107us/step - loss: 1.0632 - acc: 0.6104 - val_loss: 1.1866 - val_acc: 0.5724\n",
      "Epoch 35/40\n",
      "4582/4582 [==============================] - 0s 107us/step - loss: 1.0515 - acc: 0.6010 - val_loss: 1.2045 - val_acc: 0.5672\n",
      "Epoch 36/40\n",
      "4582/4582 [==============================] - 0s 106us/step - loss: 1.0438 - acc: 0.6133 - val_loss: 1.1902 - val_acc: 0.5611\n",
      "Epoch 37/40\n",
      "4582/4582 [==============================] - 0s 107us/step - loss: 1.0352 - acc: 0.6148 - val_loss: 1.1927 - val_acc: 0.5707\n",
      "Epoch 38/40\n",
      "4582/4582 [==============================] - 0s 108us/step - loss: 1.0301 - acc: 0.6170 - val_loss: 1.1932 - val_acc: 0.5550\n",
      "Epoch 39/40\n",
      "4582/4582 [==============================] - 0s 107us/step - loss: 1.0217 - acc: 0.6222 - val_loss: 1.2074 - val_acc: 0.5593\n",
      "Epoch 40/40\n",
      "4582/4582 [==============================] - 0s 107us/step - loss: 1.0186 - acc: 0.6222 - val_loss: 1.1946 - val_acc: 0.5698\n"
     ]
    }
   ],
   "source": [
    "model_history = model.fit(x=x_train, y=y_train,\n",
    "                          batch_size=batch_size,\n",
    "                          epochs=epochs,\n",
    "                          validation_split=1 - train_ratio)"
   ]
  },
  {
   "cell_type": "code",
   "execution_count": 29,
   "metadata": {},
   "outputs": [],
   "source": [
    "train_loss = model_history.history['loss']\n",
    "train_acc = model_history.history['acc']\n",
    "valid_loss = model_history.history['val_loss']\n",
    "valid_acc = model_history.history['val_acc']"
   ]
  },
  {
   "cell_type": "code",
   "execution_count": 30,
   "metadata": {},
   "outputs": [
    {
     "data": {
      "image/png": "[encoded data removed]",
      "text/plain": [
       "<Figure size 432x288 with 1 Axes>"
      ]
     },
     "metadata": {
      "needs_background": "light"
     },
     "output_type": "display_data"
    },
    {
     "data": {
      "image/png": "[encoded data removed]",
      "text/plain": [
       "<Figure size 432x288 with 1 Axes>"
      ]
     },
     "metadata": {
      "needs_background": "light"
     },
     "output_type": "display_data"
    }
   ],
   "source": [
    "plt.plot(train_loss, 'b', label='train')\n",
    "plt.plot(valid_loss, 'r', label='valid')\n",
    "plt.legend()\n",
    "plt.title(\"Loss\")\n",
    "plt.show()\n",
    "\n",
    "plt.plot(train_acc, 'b', label='train')\n",
    "plt.plot(valid_acc, 'r', label='valid')\n",
    "plt.legend(loc=4)\n",
    "plt.title(\"Accuracy\")\n",
    "plt.show()"
   ]
  },
  {
   "cell_type": "code",
   "execution_count": 31,
   "metadata": {},
   "outputs": [],
   "source": [
    "# save model\n",
    "model.save('./keras_model/pokemon01.h5')\n",
    "\n",
    "# load model\n",
    "another_model = tf.keras.models.load_model('./keras_model/pokemon01.h5')"
   ]
  },
  {
   "cell_type": "code",
   "execution_count": 32,
   "metadata": {},
   "outputs": [],
   "source": [
    "y_predict = another_model.predict_classes(x_test)"
   ]
  },
  {
   "cell_type": "code",
   "execution_count": 33,
   "metadata": {},
   "outputs": [
    {
     "data": {
      "text/html": [
       "<div>\n",
       "<style scoped>\n",
       "    .dataframe tbody tr th:only-of-type {\n",
       "        vertical-align: middle;\n",
       "    }\n",
       "\n",
       "    .dataframe tbody tr th {\n",
       "        vertical-align: top;\n",
       "    }\n",
       "\n",
       "    .dataframe thead th {\n",
       "        text-align: right;\n",
       "    }\n",
       "</style>\n",
       "<table border=\"1\" class=\"dataframe\">\n",
       "  <thead>\n",
       "    <tr style=\"text-align: right;\">\n",
       "      <th></th>\n",
       "      <th>ID</th>\n",
       "      <th>class</th>\n",
       "    </tr>\n",
       "  </thead>\n",
       "  <tbody>\n",
       "    <tr>\n",
       "      <th>0</th>\n",
       "      <td>MTA5MTEwOTYxMzM0NzA2NDEzNzM=</td>\n",
       "      <td>2</td>\n",
       "    </tr>\n",
       "    <tr>\n",
       "      <th>1</th>\n",
       "      <td>MTY0OTUyMTM2MDExMjg3MjczMjU=</td>\n",
       "      <td>1</td>\n",
       "    </tr>\n",
       "    <tr>\n",
       "      <th>2</th>\n",
       "      <td>MTQ0ODU1OTEzOTU1NTAyNzI4NjE=</td>\n",
       "      <td>4</td>\n",
       "    </tr>\n",
       "    <tr>\n",
       "      <th>3</th>\n",
       "      <td>MTY1ODg1MzEwNzYzNDUzMDUwNTM=</td>\n",
       "      <td>3</td>\n",
       "    </tr>\n",
       "    <tr>\n",
       "      <th>4</th>\n",
       "      <td>MTY0NTg2OTA5MTkzOTE2MTc1MTc=</td>\n",
       "      <td>5</td>\n",
       "    </tr>\n",
       "  </tbody>\n",
       "</table>\n",
       "</div>"
      ],
      "text/plain": [
       "                             ID  class\n",
       "0  MTA5MTEwOTYxMzM0NzA2NDEzNzM=      2\n",
       "1  MTY0OTUyMTM2MDExMjg3MjczMjU=      1\n",
       "2  MTQ0ODU1OTEzOTU1NTAyNzI4NjE=      4\n",
       "3  MTY1ODg1MzEwNzYzNDUzMDUwNTM=      3\n",
       "4  MTY0NTg2OTA5MTkzOTE2MTc1MTc=      5"
      ]
     },
     "execution_count": 33,
     "metadata": {},
     "output_type": "execute_result"
    }
   ],
   "source": [
    "#make the submission data frame\n",
    "test_id = pd.read_csv(\"./data/test.csv\")\n",
    "submission = {\n",
    "    'ID': test_id.id,\n",
    "    'class': y_predict\n",
    "}\n",
    "solution = pd.DataFrame(submission)\n",
    "solution.head()"
   ]
  },
  {
   "cell_type": "code",
   "execution_count": 34,
   "metadata": {},
   "outputs": [],
   "source": [
    "solution.to_csv('submission_06.csv',index=False)"
   ]
  },
  {
   "cell_type": "code",
   "execution_count": null,
   "metadata": {},
   "outputs": [],
   "source": []
  }
 ],
 "metadata": {
  "kernelspec": {
   "display_name": "Python 3",
   "language": "python",
   "name": "python3"
  },
  "language_info": {
   "codemirror_mode": {
    "name": "ipython",
    "version": 3
   },
   "file_extension": ".py",
   "mimetype": "text/x-python",
   "name": "python",
   "nbconvert_exporter": "python",
   "pygments_lexer": "ipython3",
   "version": "3.6.6"
  }
 },
 "nbformat": 4,
 "nbformat_minor": 2
}
